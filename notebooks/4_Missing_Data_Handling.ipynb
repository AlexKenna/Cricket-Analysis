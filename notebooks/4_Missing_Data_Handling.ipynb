{
 "cells": [
  {
   "cell_type": "markdown",
   "metadata": {},
   "source": [
    "# Missing Data Handling\n",
    "In this document, we will explore different ways of handling the missing data during the modelling phase.\n",
    "\n",
    "All missing data in the summary dataset is systematic and expected. Particularly, players were only excluded for two reasons related to the number of games they had played:\n",
    "\n",
    "1. The player had batted in fewer than 10 One-Day International matches.\n",
    "2. The player had batted in fewer than 10 Domestic matches.\n",
    "\n",
    "Resultantly, it is possible for players to be recorded in the summary dataset without having played all domestic formats. In these cases, the players summary for the format(s) they had not participated in were intentionally left blank (NaN).\n",
    "\n",
    "While blank fields make intuitive sense where data has not been recorded, very few models can reasonably deal with missing data. Here, we will attempt to determine the best method for managing missing data in our model.\n",
    "\n",
    "To begin, we will import necessary libraries, and load the summary dataset:"
   ]
  },
  {
   "cell_type": "code",
   "execution_count": 9,
   "metadata": {},
   "outputs": [],
   "source": [
    "# Import necessary libraries and information.\n",
    "import numpy as np\n",
    "import pandas as pd\n",
    "from sklearn.ensemble import RandomForestRegressor\n",
    "from lib.constants import DATA_PATH\n",
    "\n",
    "# Load batter summary data.\n",
    "summary = pd.read_csv(DATA_PATH + \"/Batter_Summary.txt\", delimiter=\"\\t\")\n",
    "\n",
    "# Replace batter hand with a numeric representation (Right Hand = 0, Left Hand = 1).\n",
    "summary[\"Hand\"] = np.where(summary[\"Hand\"] == \"Right\", 0, 1)\n",
    "summary = summary.drop(columns=[\"Name\", \"Batter_ID\"])\n"
   ]
  },
  {
   "cell_type": "markdown",
   "metadata": {},
   "source": [
    "## 1. Method of Determining Success.\n",
    "Before we can determine the \"best\" method for managing missing data, we must devise a metric for measuring how successful a method is. \n",
    "\n",
    "Considering the scope and goal of this project, we will quantify the success of a missing data management method by how well a Random Forest Regression model can predict the One-Day International batting average of the 12 most recent players, when trained on all prior players.\n",
    "\n",
    "Functions are defined below to help with this objective."
   ]
  },
  {
   "cell_type": "code",
   "execution_count": 11,
   "metadata": {},
   "outputs": [],
   "source": [
    "# Function to create a test and training split.\n",
    "def test_train_split(X, y):\n",
    "  X_train = X[:-12]\n",
    "  X_test = X[-12:]\n",
    "  y_train = y[:-12]\n",
    "  y_test = y[-12:]\n",
    "\n",
    "  # Return the training and test split data.\n",
    "  return (X_train, X_test, y_train, y_test)\n",
    "\n",
    "\n",
    "# Function for testing the accuracy of a missing data method.\n",
    "def test_model_accuracy(X_train, X_test, y_train, y_test):\n",
    "  num_tests = 500\n",
    "  accuracy = 0\n",
    "\n",
    "  for _ in range(num_tests):\n",
    "    # Train a Random Forest Regressor.\n",
    "    rfr = RandomForestRegressor()\n",
    "    rfr.fit(X_train, y_train)\n",
    "\n",
    "    # Track the accuracy of the model.\n",
    "    accuracy += rfr.score(X_test, y_test)\n",
    "\n",
    "  # Return the average accuracy of the model.\n",
    "  return accuracy/num_tests\n"
   ]
  },
  {
   "cell_type": "markdown",
   "metadata": {},
   "source": [
    "## 2. Handle Missing Data.\n",
    "Here, we will test the performance of different methods for handling missing data. Particularly, these methods include:\n",
    "\n",
    "1. Removing columns containing missing data.\n",
    "2. Removing rows containing missing data.\n",
    "3. Filling missing data with the columns mean.\n",
    "4. Filling missing data with the columns median.\n",
    "\n",
    "Ideally, a 5th method would be used whereby missing data is approximated according to the players other attributes. However, due to time restrictions with this project, this method will have the be ignored for now."
   ]
  },
  {
   "cell_type": "markdown",
   "metadata": {},
   "source": [
    "### 2.1 Remove Columns Containing Missing Data.\n",
    "This method will remove all columns from the summary data that have any missing values."
   ]
  },
  {
   "cell_type": "code",
   "execution_count": 12,
   "metadata": {},
   "outputs": [
    {
     "name": "stdout",
     "output_type": "stream",
     "text": [
      "Accuracy:  0.6930346236784929\n"
     ]
    }
   ],
   "source": [
    "# Remove NaN columns.\n",
    "data = summary.dropna(axis=1)\n",
    "\n",
    "# Split the data into features and labels.\n",
    "X = data.drop(columns=[\"International_One_Day_Batting_Average\"])\n",
    "y = data[\"International_One_Day_Batting_Average\"]\n",
    "\n",
    "# Split the data into a test and training set.\n",
    "X_train, X_test, y_train, y_test = test_train_split(X, y)\n",
    "\n",
    "# Train a Random Forest Regressor model.\n",
    "accuracy = test_model_accuracy(X_train, X_test, y_train, y_test)\n",
    "\n",
    "# Check model accuracy.\n",
    "print(\"Accuracy: \", accuracy)\n"
   ]
  },
  {
   "cell_type": "markdown",
   "metadata": {},
   "source": [
    "### 2.2 Remove Rows Containing Missing Data.\n",
    "This method will remove all rows from the summary data that have any missing values."
   ]
  },
  {
   "cell_type": "code",
   "execution_count": 13,
   "metadata": {},
   "outputs": [
    {
     "name": "stdout",
     "output_type": "stream",
     "text": [
      "Accuracy:  0.6511740013171261\n"
     ]
    }
   ],
   "source": [
    "# Remove NaN columns.\n",
    "data = summary.dropna(axis=0)\n",
    "\n",
    "# Split the data into features and labels.\n",
    "X = data.drop(columns=[\"International_One_Day_Batting_Average\"])\n",
    "y = data[\"International_One_Day_Batting_Average\"]\n",
    "\n",
    "# Split the data into a test and training set.\n",
    "X_train, X_test, y_train, y_test = test_train_split(X, y)\n",
    "\n",
    "# Train a Random Forest Regressor model.\n",
    "accuracy = test_model_accuracy(X_train, X_test, y_train, y_test)\n",
    "\n",
    "# Check model accuracy.\n",
    "print(\"Accuracy: \", accuracy)\n"
   ]
  },
  {
   "cell_type": "markdown",
   "metadata": {},
   "source": [
    "### 2.3 Fill Missing Data with Column Mean.\n",
    "This method fills any missing data with the mean of the column."
   ]
  },
  {
   "cell_type": "code",
   "execution_count": 14,
   "metadata": {},
   "outputs": [
    {
     "name": "stdout",
     "output_type": "stream",
     "text": [
      "Accuracy:  0.6763713610294009\n"
     ]
    }
   ],
   "source": [
    "# Fill missing data with the columns mean.\n",
    "data = summary.copy()\n",
    "for i in data.columns[data.isnull().any(axis=0)]:\n",
    "    data[i].fillna(data[i].mean(), inplace=True)\n",
    "\n",
    "# Split the data into features and labels.\n",
    "X = data.drop(columns=[\"International_One_Day_Batting_Average\"])\n",
    "y = data[\"International_One_Day_Batting_Average\"]\n",
    "\n",
    "# Split the data into a test and training set.\n",
    "X_train, X_test, y_train, y_test = test_train_split(X, y)\n",
    "\n",
    "# Train a Random Forest Regressor model.\n",
    "accuracy = test_model_accuracy(X_train, X_test, y_train, y_test)\n",
    "\n",
    "# Check model accuracy.\n",
    "print(\"Accuracy: \", accuracy)\n"
   ]
  },
  {
   "cell_type": "markdown",
   "metadata": {},
   "source": [
    "### 2.4 Fill Missing Data with Column Median.\n",
    "This metho fills any missing data with the median of the column."
   ]
  },
  {
   "cell_type": "code",
   "execution_count": 15,
   "metadata": {},
   "outputs": [
    {
     "name": "stdout",
     "output_type": "stream",
     "text": [
      "Accuracy:  0.6832819701424099\n"
     ]
    }
   ],
   "source": [
    "# Fill missing data with the columns mean.\n",
    "data = summary.copy()\n",
    "for i in data.columns[data.isnull().any(axis=0)]:\n",
    "    data[i].fillna(data[i].median(), inplace=True)\n",
    "\n",
    "# Split the data into features and labels.\n",
    "X = data.drop(columns=[\"International_One_Day_Batting_Average\"])\n",
    "y = data[\"International_One_Day_Batting_Average\"]\n",
    "\n",
    "# Split the data into a test and training set.\n",
    "X_train, X_test, y_train, y_test = test_train_split(X, y)\n",
    "\n",
    "# Train a Random Forest Regressor model.\n",
    "accuracy = test_model_accuracy(X_train, X_test, y_train, y_test)\n",
    "\n",
    "# Check model accuracy.\n",
    "print(\"Accuracy: \", accuracy)\n"
   ]
  },
  {
   "cell_type": "markdown",
   "metadata": {},
   "source": [
    "## Conclusion\n",
    "With each missing data management method tested, we can rank their success as follows:\n",
    "\n",
    "1. Remove columns containing missing data.\n",
    "2. Fill missing data with the columns median.\n",
    "3. Fill missing data with the columns mean.\n",
    "4. Remove rows containing missing data.\n",
    "\n",
    "From this ranking, we can choose the method to use for the remainder of the project. Particularly, it was chosen that missing data would be filled with the column median. Initially, this may seem counterintuitive as removing the columns with missing data was a more successful approach. However, it is believed that the reason for the success of removing the missing data columns is more the result of feature selection - removing features that are detrimental to the performance of the model. As feature selection is explored later in this project, we will assess this belief then."
   ]
  }
 ],
 "metadata": {
  "interpreter": {
   "hash": "d5f05966c834b7114444b779d720abe0e299bd07f35b3e38633408fa0bc32ead"
  },
  "kernelspec": {
   "display_name": "Python 3.9.9 64-bit",
   "language": "python",
   "name": "python3"
  },
  "language_info": {
   "codemirror_mode": {
    "name": "ipython",
    "version": 3
   },
   "file_extension": ".py",
   "mimetype": "text/x-python",
   "name": "python",
   "nbconvert_exporter": "python",
   "pygments_lexer": "ipython3",
   "version": "3.9.9"
  },
  "orig_nbformat": 4
 },
 "nbformat": 4,
 "nbformat_minor": 2
}
