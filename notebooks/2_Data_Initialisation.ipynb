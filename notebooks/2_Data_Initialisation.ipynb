{
 "cells": [
  {
   "cell_type": "markdown",
   "metadata": {},
   "source": [
    "# Data Initialisation\n",
    "This document is concerned with initialising the data to be used throughout the remainder of the project. Particularly, all unnecessary data will be removed from the match and deliveries datasets according to the findings of the Data Exploration notebook, which was made in parallel with this document. For optimal results in the summarisation and modelling stages of this project, the contents of this document must be completed thoroughly and accurately.\n",
    "\n",
    "This document consists of three main sections:\n",
    "\n",
    "1. First clean of the match dataset.\n",
    "2. First clean of the deliveries dataset.\n",
    "3. Final clean of the match and deliveries datasets together.\n",
    "\n",
    "Each of the above sections are further divided into subsections containing individual cleaning steps. The reasons for this split will be discussed throughout the document. \n",
    "\n",
    "To initialise this document, we must first load necessary information and libraries:"
   ]
  },
  {
   "cell_type": "code",
   "execution_count": 6,
   "metadata": {},
   "outputs": [],
   "source": [
    "# Perform necessary imports.\n",
    "import pandas as pd\n",
    "from lib.constants import *"
   ]
  },
  {
   "cell_type": "markdown",
   "metadata": {},
   "source": [
    "## Basic Clean Match Data\n",
    "Here, we will perform a basic clean on the match data. This includes performing the following steps:\n",
    "\n",
    "1. Removing unnecessary columns from match data.\n",
    "2. Removing female formats.\n",
    "3. Removing disability teams.\n",
    "4. Removing non-Australian international matches.\n",
    "5. Removing uncommon match formats.\n",
    "6. Removing international games that are not of One-Day format.\n",
    "\n",
    "To begin with, we must load the raw match dataset:"
   ]
  },
  {
   "cell_type": "code",
   "execution_count": 7,
   "metadata": {},
   "outputs": [],
   "source": [
    "# Load match data.\n",
    "match_data = pd.read_csv(DATA_PATH + \"/Matches.txt\", delimiter=\"\\t\")"
   ]
  },
  {
   "cell_type": "markdown",
   "metadata": {},
   "source": [
    "### 1. Remove Unnecessary Columns.\n",
    "\n",
    "We will remove columns from the match dataset that will not be important in the summarisation and modelling phases. Particularly, we will remove all columns related to the Officials associated with a match. In doing so, we will reduce the size of the dataset to a more manageable state. "
   ]
  },
  {
   "cell_type": "code",
   "execution_count": 8,
   "metadata": {},
   "outputs": [
    {
     "data": {
      "text/plain": [
       "['Match Id',\n",
       " 'Season Id',\n",
       " 'Season',\n",
       " 'Series Id',\n",
       " 'Series',\n",
       " 'Series Gender Id',\n",
       " 'Series Gender',\n",
       " 'Match Date',\n",
       " 'Match YYMMDD',\n",
       " 'Match Type Id',\n",
       " 'Match Type',\n",
       " 'Ball Type Id',\n",
       " 'Ball Type',\n",
       " 'TeamA Id',\n",
       " 'TeamA',\n",
       " 'TeamA At Home',\n",
       " 'TeamB Id',\n",
       " 'TeamB',\n",
       " 'TeamB At Home',\n",
       " 'Day/Night',\n",
       " 'Venue Id',\n",
       " 'Venue',\n",
       " 'Toss Won By Id',\n",
       " 'Toss Decision Id',\n",
       " 'TeamA Innings1 Closure',\n",
       " 'TeamA Innings2 Closure',\n",
       " 'TeamB Innings1 Closure',\n",
       " 'TeamB Innings2 Closure',\n",
       " 'TeamA 1st Comparison',\n",
       " 'TeamA Result Id',\n",
       " 'TeamA Result',\n",
       " 'TeamBattingIdMatchInnings1',\n",
       " 'TeamBattingMatchInnings1',\n",
       " 'TeamBattingIdMatchInnings2',\n",
       " 'TeamBattingMatchInnings2',\n",
       " 'TeamBattingIdMatchInnings3',\n",
       " 'TeamBattingMatchInnings3',\n",
       " 'TeamBattingIdMatchInnings4',\n",
       " 'TeamBattingMatchInnings4',\n",
       " 'TeamB Result Id',\n",
       " 'TeamB Result',\n",
       " 'TeamA Coach Id',\n",
       " 'TeamA Coach Surname',\n",
       " 'TeamA Coach Other Names',\n",
       " 'TeamB Coach Id',\n",
       " 'TeamB Coach Surname',\n",
       " 'TeamB Coach Other Names',\n",
       " 'Round Id',\n",
       " 'Round',\n",
       " 'Round Number',\n",
       " 'Match Number',\n",
       " 'Data Source']"
      ]
     },
     "execution_count": 8,
     "metadata": {},
     "output_type": "execute_result"
    }
   ],
   "source": [
    "# Remove unnecessary columns from match data.\n",
    "match_data = match_data[match_data.columns.drop(list(match_data.filter(regex='Official+')))]\n",
    "match_data.columns.values.tolist()"
   ]
  },
  {
   "cell_type": "markdown",
   "metadata": {},
   "source": [
    "### 2. Remove Female Formats.\n",
    "\n",
    "Due to large variations between male and female formats of cricket, the two cannot reasonably be compared and it is necessary to only focus on a single gender. As the match dataset contains substantially more entries for the male format, this project will focus solely on this format.\n",
    "\n",
    "> As more data is collected on the female format it would be interesting to repeat this research to see where male and female formats differ most significantly."
   ]
  },
  {
   "cell_type": "code",
   "execution_count": 9,
   "metadata": {},
   "outputs": [
    {
     "data": {
      "text/plain": [
       "['Male']"
      ]
     },
     "execution_count": 9,
     "metadata": {},
     "output_type": "execute_result"
    }
   ],
   "source": [
    "# Remove female series from match data.\n",
    "match_data = match_data.loc[match_data[\"Series Gender Id\"] == 1]\n",
    "match_data[\"Series Gender\"].unique().tolist()"
   ]
  },
  {
   "cell_type": "markdown",
   "metadata": {},
   "source": [
    "### 3. Remove Disability Matches.\n",
    "\n",
    "A small set of disability matches are recorded in the match dataset. Due to significant differences between non-disability and disability matches, this project will only focus on the non-disability matches."
   ]
  },
  {
   "cell_type": "code",
   "execution_count": 10,
   "metadata": {},
   "outputs": [
    {
     "data": {
      "text/plain": [
       "['Australia (M)',\n",
       " 'West Indies (M)',\n",
       " 'Pakistan (M)',\n",
       " 'Sri Lanka (M)',\n",
       " 'South Africa (M)',\n",
       " 'England (M)',\n",
       " 'New Zealand (M)',\n",
       " 'India (M)',\n",
       " 'SA (M)',\n",
       " 'Tas (M)',\n",
       " 'NSW (M)',\n",
       " 'Victoria (M)',\n",
       " 'WA (M)',\n",
       " 'Qld (M)',\n",
       " 'Australia A (M)',\n",
       " 'Zimbabwe (M)',\n",
       " 'Kenya (M)',\n",
       " 'Scotland (M)',\n",
       " 'Bangladesh (M)',\n",
       " 'Ireland (M)',\n",
       " 'Sydney Sixers (M)',\n",
       " 'Melbourne Stars (M)',\n",
       " 'Adelaide Strikers (M)',\n",
       " 'Perth Scorchers  (M)',\n",
       " 'Brisbane Heat (M)',\n",
       " 'Hobart Hurricanes (M)',\n",
       " 'Melbourne Renegades (M)',\n",
       " 'Sydney Thunder (M)',\n",
       " 'Canada (M)',\n",
       " 'Gloucestershire (M)',\n",
       " 'Afghanistan (M)',\n",
       " 'India A (M)',\n",
       " 'South Africa A (M)',\n",
       " 'CA XI (M)',\n",
       " 'India B (M)',\n",
       " 'England Lions (M)']"
      ]
     },
     "execution_count": 10,
     "metadata": {},
     "output_type": "execute_result"
    }
   ],
   "source": [
    "# Remove disability teams from match data.\n",
    "match_data =  match_data[~match_data.TeamA.str.contains(\"Disability\") | \n",
    "                         ~match_data.TeamB.str.contains(\"Disability\")]\n",
    "match_data[\"TeamA\"].unique().tolist()"
   ]
  },
  {
   "cell_type": "markdown",
   "metadata": {},
   "source": [
    "### 4. Remove Non-Australian International Matches.\n",
    "\n",
    "The match dataset contains some international games played between two non-Australian teams. As this project aims to predict batter performance at the international level of One-Day cricket based on domestic performances, and with only Australian domestic data recorded, it is reasonable to remove these international matches."
   ]
  },
  {
   "cell_type": "code",
   "execution_count": 11,
   "metadata": {},
   "outputs": [
    {
     "data": {
      "text/plain": [
       "0"
      ]
     },
     "execution_count": 11,
     "metadata": {},
     "output_type": "execute_result"
    }
   ],
   "source": [
    "# Remove international games where Australia is not playing.\n",
    "match_data = match_data[~(match_data.Series.str.contains(\"International\") & ~match_data.TeamA.str.contains(\"Australia\") & ~match_data.TeamB.str.contains(\"Australia\"))]\n",
    "len(match_data[match_data.Series.str.contains(\"International\") & ~match_data.TeamA.str.contains(\"Australia\") & ~match_data.TeamB.str.contains(\"Australia\")][[\"TeamA\", \"TeamB\"]])"
   ]
  },
  {
   "cell_type": "markdown",
   "metadata": {},
   "source": [
    "### 5. Remove Uncommon Match Formats.\n",
    "\n",
    "At the international level, T20, One-Day, and Five-Day formats are the only matches played consistently. However, domestically, Four-Day matches are favoured over the Five-Day format. In addition to these formats, the match dataset contains Two- and Three-Day games. These formats have minimal transfer to those played at the international level and would be reasonable to remove from the dataset."
   ]
  },
  {
   "cell_type": "code",
   "execution_count": 12,
   "metadata": {},
   "outputs": [
    {
     "data": {
      "text/plain": [
       "['5 Day', '1 Day', '4 Day', 'Twenty20']"
      ]
     },
     "execution_count": 12,
     "metadata": {},
     "output_type": "execute_result"
    }
   ],
   "source": [
    "# Remove games that are not T20, 1 Day, 4 Day, or 5 Day formats.\n",
    "match_data = match_data[match_data[\"Match Type Id\"].isin([1,4,5,7])]\n",
    "match_data[\"Match Type\"].unique().tolist()"
   ]
  },
  {
   "cell_type": "markdown",
   "metadata": {},
   "source": [
    "### 6. Remove International Matches That are not One-Day Format.\n",
    "\n",
    "This project aims to predict batter performance in One-Day international matches from domestic performance. As such, international T20 and Test matches have no purpose in this project and should be removed."
   ]
  },
  {
   "cell_type": "code",
   "execution_count": 13,
   "metadata": {},
   "outputs": [
    {
     "data": {
      "text/plain": [
       "['International ODI M',\n",
       " 'Domestic 1st Class M',\n",
       " 'Domestic List A M',\n",
       " 'Domestic T20 M',\n",
       " 'International ICC Trophy M',\n",
       " 'International ODI World Cup M',\n",
       " 'International 1st Class M']"
      ]
     },
     "execution_count": 13,
     "metadata": {},
     "output_type": "execute_result"
    }
   ],
   "source": [
    "# Remove international games that are not ODI.\n",
    "match_data = match_data[(match_data[\"Match Type Id\"] == 1 & match_data.Series.str.contains(\"International\")) | match_data.Series.str.contains(\"Domestic\")]\n",
    "match_data.Series.unique().tolist()"
   ]
  },
  {
   "cell_type": "markdown",
   "metadata": {},
   "source": [
    "### Write Cleaned Matches to File.\n",
    "\n",
    "We will now write this cleaned data to file to be used later."
   ]
  },
  {
   "cell_type": "code",
   "execution_count": 14,
   "metadata": {},
   "outputs": [],
   "source": [
    "# Write the cleaned data to file.\n",
    "match_data.to_csv(DATA_PATH + \"/Matches_Clean.txt\", sep=\"\\t\", index=False)"
   ]
  },
  {
   "cell_type": "markdown",
   "metadata": {},
   "source": [
    "## Basic Clean Deliveries Data\n",
    "Here, we will perform a basic clean on the deliveries data. This includes performing the following steps:\n",
    "\n",
    "1. Remove deliveries in irrelevant matches.\n",
    "2. Remove deliveries to foreign teams.\n",
    "\n",
    "These steps are outlined below."
   ]
  },
  {
   "cell_type": "markdown",
   "metadata": {},
   "source": [
    "### 1. Remove Deliveries in Irrelevant Matches.\n",
    "\n",
    "As the deliveries dataset is reasonably larger, we must read in the data in chunks. As each chunk is loaded, we will remove deliveries that do not belong to our cleaned matches dataset."
   ]
  },
  {
   "cell_type": "code",
   "execution_count": 15,
   "metadata": {},
   "outputs": [],
   "source": [
    "# Determine which matches are important for delivery data.\n",
    "match_ids = match_data[\"Match Id\"]\n",
    "\n",
    "# Determine duplicate columns between match and delivery data that should be dropped.\n",
    "match_columns = set(match_data.columns)\n",
    "match_columns.remove(\"Match Id\")\n",
    "\n",
    "# Load delivery data\n",
    "delivery_data = pd.DataFrame()\n",
    "\n",
    "for chunk in pd.read_csv(DATA_PATH + \"/Deliveries.txt\", delimiter=\"\\t\", chunksize=10**6, low_memory=False):\n",
    "  chunk = chunk[chunk[\"Match Id\"].isin(match_ids)]\n",
    "  chunk.drop(\n",
    "    [col for col in chunk.columns if col in match_columns], axis=1, inplace=True\n",
    "  )\n",
    "\n",
    "  # Combine filtered deliveries into single dataframe.\n",
    "  delivery_data = pd.concat([delivery_data, chunk])"
   ]
  },
  {
   "cell_type": "markdown",
   "metadata": {},
   "source": [
    "### 2. Remove Deliveries to Foreign Teams.\n",
    "\n",
    "The deliveries dataset contains all innings of a match. As such, at the international level, both Australian and non-Australian batting innings have been recorded. It is reasonable to remove the non-Australian innings as we only wish to predict Australian One-Day international batting performances."
   ]
  },
  {
   "cell_type": "code",
   "execution_count": 16,
   "metadata": {},
   "outputs": [
    {
     "data": {
      "text/plain": [
       "['Australia (M)',\n",
       " 'SA (M)',\n",
       " 'Victoria (M)',\n",
       " 'NSW (M)',\n",
       " 'Tas (M)',\n",
       " 'WA (M)',\n",
       " 'Qld (M)',\n",
       " 'Australia A (M)',\n",
       " 'Brisbane Heat (M)',\n",
       " 'Sydney Sixers (M)',\n",
       " 'Melbourne Stars (M)',\n",
       " 'Sydney Thunder (M)',\n",
       " 'Adelaide Strikers (M)',\n",
       " 'Melbourne Renegades (M)',\n",
       " 'Hobart Hurricanes (M)',\n",
       " 'Perth Scorchers  (M)',\n",
       " 'CA XI (M)']"
      ]
     },
     "execution_count": 16,
     "metadata": {},
     "output_type": "execute_result"
    }
   ],
   "source": [
    "# Get a list of international One Day match IDs.\n",
    "odi_IDs = match_data[match_data[\"Series\"].str.contains(\"International\")][\"Match Id\"].tolist()\n",
    "\n",
    "# Remove deliveries to foreign teams.\n",
    "delivery_data = delivery_data[~(delivery_data[\"Match Id\"].isin(odi_IDs) & ~delivery_data[\"Team Batting\"].str.contains(\"Australia\"))]\n",
    "\n",
    "# Show the remaining batting teams.\n",
    "delivery_data[\"Team Batting\"].unique().tolist()"
   ]
  },
  {
   "cell_type": "markdown",
   "metadata": {},
   "source": [
    "## Further Cleaning of Entire Dataset\n",
    "This section tidies the already cleaned data to the final workable state. This includes the following steps:\n",
    "\n",
    "1. Remove matches that contain no relevant batters.\n",
    "\n",
    "These steps are outlined below."
   ]
  },
  {
   "cell_type": "markdown",
   "metadata": {},
   "source": [
    "### 1. Remove Matches That Contain no Relevant Batters.\n",
    "\n",
    "We are only interested in modelling batters that have played at least 10 One-Day international and 10 domestic matches. We will remove any matches that contain no batters that meet this criteria."
   ]
  },
  {
   "cell_type": "code",
   "execution_count": 17,
   "metadata": {},
   "outputs": [],
   "source": [
    "# Extract international deliveries.\n",
    "int_matches = match_data[match_data[\"Series\"].str.contains(\"International\")][\"Match Id\"].tolist()\n",
    "int_deliveries = delivery_data[delivery_data[\"Match Id\"].isin(int_matches)]\n",
    "\n",
    "# Count number of innings per batter.\n",
    "by_columns = [\"Striker Id\"]\n",
    "aggregates = {\"Match Id\": pd.Series.nunique}\n",
    "int_groupby_data = int_deliveries.groupby(by=by_columns).agg(aggregates)\n",
    "\n",
    "# Remove batters that have batted in less than 10 international One Day innings.\n",
    "batter_ids = int_groupby_data[int_groupby_data[\"Match Id\"] >= MIN_INNINGS].index.tolist()\n",
    "\n",
    "# Extract domestic deliveries.\n",
    "dom_matches = match_data[match_data[\"Series\"].str.contains(\"Domestic\")][\"Match Id\"].tolist()\n",
    "dom_deliveries = delivery_data[delivery_data[\"Match Id\"].isin(dom_matches)]\n",
    "\n",
    "# Count number of innings per batter.\n",
    "by_columns = [\"Striker Id\"]\n",
    "aggregates = {\"Match Id\": pd.Series.nunique}\n",
    "dom_groupby_data = dom_deliveries.groupby(by=by_columns).agg(aggregates)\n",
    "dom_groupby_data = dom_groupby_data[dom_groupby_data.index.isin(batter_ids)]\n",
    "\n",
    "# Remove batters that have batted in less than 10 domestic innings.\n",
    "batter_ids = dom_groupby_data[(dom_groupby_data[\"Match Id\"] >= MIN_INNINGS)].index.tolist()\n",
    "\n",
    "# Remove matches not containing the above players.\n",
    "valid_matches = delivery_data[delivery_data[\"Striker Id\"].isin(batter_ids)][\"Match Id\"].unique()\n",
    "match_data = match_data[match_data[\"Match Id\"].isin(valid_matches)]\n",
    "delivery_data = delivery_data[delivery_data[\"Match Id\"].isin(valid_matches)]"
   ]
  },
  {
   "cell_type": "markdown",
   "metadata": {},
   "source": [
    "### Writing Data to File\n",
    "\n",
    "Finally, we will write the datasets back to file in their final cleaned states. Additionally, we will initialise the batter summary data file by writing the relevant batter IDs to a new file."
   ]
  },
  {
   "cell_type": "code",
   "execution_count": 18,
   "metadata": {},
   "outputs": [],
   "source": [
    "# Write the cleaned data to file.\n",
    "match_data.to_csv(DATA_PATH + \"/Matches_Clean.txt\", sep=\"\\t\", index=False)\n",
    "delivery_data.to_csv(DATA_PATH + \"/Deliveries_Clean.txt\", sep=\"\\t\", index=False)\n",
    "\n",
    "# Initialise batter summary file.\n",
    "batter_data = pd.DataFrame({\"Batter_ID\": batter_ids})\n",
    "batter_data.to_csv(DATA_PATH + \"/Batter_Summary.txt\", sep=\"\\t\", index=False)"
   ]
  }
 ],
 "metadata": {
  "interpreter": {
   "hash": "d5f05966c834b7114444b779d720abe0e299bd07f35b3e38633408fa0bc32ead"
  },
  "kernelspec": {
   "display_name": "Python 3.9.9 64-bit",
   "language": "python",
   "name": "python3"
  },
  "language_info": {
   "codemirror_mode": {
    "name": "ipython",
    "version": 3
   },
   "file_extension": ".py",
   "mimetype": "text/x-python",
   "name": "python",
   "nbconvert_exporter": "python",
   "pygments_lexer": "ipython3",
   "version": "3.9.9"
  },
  "orig_nbformat": 4
 },
 "nbformat": 4,
 "nbformat_minor": 2
}
