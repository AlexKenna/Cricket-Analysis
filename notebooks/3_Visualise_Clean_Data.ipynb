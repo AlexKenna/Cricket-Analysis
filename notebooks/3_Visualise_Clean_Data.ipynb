{
 "cells": [
  {
   "cell_type": "markdown",
   "metadata": {},
   "source": [
    "# Visualise Clean Data\n",
    "This document will briefly explore the cleaned data to ensure that no obvious errors have been made through the cleaning process."
   ]
  }
 ],
 "metadata": {
  "language_info": {
   "name": "python"
  },
  "orig_nbformat": 4
 },
 "nbformat": 4,
 "nbformat_minor": 2
}
