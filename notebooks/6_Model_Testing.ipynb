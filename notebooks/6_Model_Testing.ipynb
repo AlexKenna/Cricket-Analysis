{
 "cells": [
  {
   "cell_type": "markdown",
   "metadata": {},
   "source": [
    "# Model Testing\n",
    "This document tests the performance of the model after data cleaning, data summarisation, feature extraction, and hyperparameter tuning.\n",
    "\n",
    "Model accuracy is explored using two approaches:\n",
    "\n",
    "1. Quantitative\n",
    "2. Visually\n",
    "\n",
    "To begin with, we will perform the necessary imports and load the summary dataset."
   ]
  },
  {
   "cell_type": "code",
   "execution_count": 1,
   "metadata": {},
   "outputs": [],
   "source": [
    "# Import necessary libraries.\n",
    "import pandas as pd\n",
    "import numpy as np\n",
    "import matplotlib.pyplot as plt\n",
    "from sklearn.metrics import mean_absolute_error, mean_squared_error\n",
    "from lib.constants import DATA_PATH\n",
    "from lib.create_model import create_model\n",
    "from lib.train_model import train_model\n",
    "from lib.helpers import _create_test_train_split\n",
    "\n",
    "# Load batter summary data.\n",
    "summary = pd.read_csv(\n",
    "    DATA_PATH + \"/Batter_Summary_Reduced.txt\", delimiter=\"\\t\")\n",
    "summary = summary.drop(columns=[\"Name\", \"Batter_ID\"])\n"
   ]
  },
  {
   "cell_type": "markdown",
   "metadata": {},
   "source": [
    "## 1. Create the Model.\n",
    "Firstly, we must create the training and testing datasets, create the model, and train the model."
   ]
  },
  {
   "cell_type": "code",
   "execution_count": 18,
   "metadata": {},
   "outputs": [],
   "source": [
    "# Create test and training datasets.\n",
    "X_train, X_test, y_train, y_test = _create_test_train_split(summary)\n",
    "\n",
    "# Create the model.\n",
    "model = create_model()\n",
    "\n",
    "# Train the model.\n",
    "model = train_model(model)\n"
   ]
  },
  {
   "cell_type": "markdown",
   "metadata": {},
   "source": [
    "## 2. Test the Model's Quantitative Accuracy.\n",
    "To quantify the model's accuracy, we will use three metrics:\n",
    "\n",
    "1. Coefficient of determination (R^2)\n",
    "2. Mean Absolute Error (MAE)\n",
    "3. Root Mean Squared Error (RMSE)\n",
    "\n",
    "These are explored below."
   ]
  },
  {
   "cell_type": "markdown",
   "metadata": {},
   "source": [
    "### 2.1 Coefficient of Determination.\n",
    "Coefficient of Determination describes the percentage of variation in the target variable explained by the features. This is the default score method for a Random Forest."
   ]
  },
  {
   "cell_type": "code",
   "execution_count": 57,
   "metadata": {},
   "outputs": [
    {
     "name": "stdout",
     "output_type": "stream",
     "text": [
      "The model's accuracy using coefficient of determination is: 0.7971580827666123\n"
     ]
    }
   ],
   "source": [
    "# Test the accuracy of the model.\n",
    "accuracy = model.score(X_test, y_test)\n",
    "\n",
    "# Print the model's accuracy.\n",
    "print(\"The model's accuracy using coefficient of determination is: {}\".format(accuracy))\n"
   ]
  },
  {
   "cell_type": "markdown",
   "metadata": {},
   "source": [
    "### 2.2 Mean Absolute Error.\n",
    "Mean Absolute Error is a linear score that weights all errors equally. For our model, MAE describes how far from the true average the predicted average is."
   ]
  },
  {
   "cell_type": "code",
   "execution_count": 20,
   "metadata": {},
   "outputs": [
    {
     "name": "stdout",
     "output_type": "stream",
     "text": [
      "Mean Absolute Error: 3.4173125780217624\n"
     ]
    }
   ],
   "source": [
    "# Make a prediction using the trained model.\n",
    "y_pred_test = model.predict(X_test)\n",
    "\n",
    "# Print the Mean Absolute Error.\n",
    "print('Mean Absolute Error:', mean_absolute_error(y_test, y_pred_test))\n"
   ]
  },
  {
   "cell_type": "markdown",
   "metadata": {},
   "source": [
    "### 2.3 Root Mean Squared Error.\n",
    "Root Mean Squared Error is a quadratic score that penalises larger errors. "
   ]
  },
  {
   "cell_type": "code",
   "execution_count": 21,
   "metadata": {},
   "outputs": [
    {
     "name": "stdout",
     "output_type": "stream",
     "text": [
      "Root Mean Squared Error: 4.498000852220114\n"
     ]
    }
   ],
   "source": [
    "# Make a prediction using the trained model.\n",
    "y_pred_test = model.predict(X_test)\n",
    "\n",
    "# Print the Mean Squared Error.\n",
    "print('Root Mean Squared Error:', np.sqrt(\n",
    "    mean_squared_error(y_test, y_pred_test)))\n"
   ]
  },
  {
   "cell_type": "markdown",
   "metadata": {},
   "source": [
    "## 3. Accuracy Visualisation.\n",
    "To visualise the accuracy of the model, the true and predicted batting averages will be plotted in a scatter plot on the x and y axes, respectively. If the model is able to accurately predict the player's batting average, the scatter point will fall closer to the main diagonal."
   ]
  },
  {
   "cell_type": "code",
   "execution_count": 48,
   "metadata": {},
   "outputs": [
    {
     "data": {
      "text/plain": [
       "Text(0.5, 1.0, 'Comparison of True and Predicted Averages')"
      ]
     },
     "execution_count": 48,
     "metadata": {},
     "output_type": "execute_result"
    },
    {
     "data": {
      "image/png": "[encoded data removed]",
      "text/plain": [
       "<Figure size 432x288 with 1 Axes>"
      ]
     },
     "metadata": {
      "needs_background": "light"
     },
     "output_type": "display_data"
    }
   ],
   "source": [
    "# Plot each batter's predicted and true average.\n",
    "plt.scatter(y_test, y_pred_test, color=\"#003b63\", linewidth=5)\n",
    "\n",
    "# Plot the main diagonal.\n",
    "plt.axline([10, 10], [47.5, 47.5], color=\"#e56d54\", linewidth=5)\n",
    "\n",
    "# Figure configurations.\n",
    "plt.xlim([5, 50])\n",
    "plt.ylim([5, 50])\n",
    "plt.rcParams.update({'font.size': 15})\n",
    "plt.xlabel(\"True Average\")\n",
    "plt.ylabel(\"Predicted Average\")\n",
    "plt.title(\"Comparison of True and Predicted Averages\", pad=20)\n"
   ]
  }
 ],
 "metadata": {
  "interpreter": {
   "hash": "d5f05966c834b7114444b779d720abe0e299bd07f35b3e38633408fa0bc32ead"
  },
  "kernelspec": {
   "display_name": "Python 3.9.9 64-bit",
   "language": "python",
   "name": "python3"
  },
  "language_info": {
   "codemirror_mode": {
    "name": "ipython",
    "version": 3
   },
   "file_extension": ".py",
   "mimetype": "text/x-python",
   "name": "python",
   "nbconvert_exporter": "python",
   "pygments_lexer": "ipython3",
   "version": "3.9.9"
  },
  "orig_nbformat": 4
 },
 "nbformat": 4,
 "nbformat_minor": 2
}
