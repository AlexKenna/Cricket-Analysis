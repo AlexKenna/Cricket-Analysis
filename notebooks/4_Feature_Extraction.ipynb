{
 "cells": [
  {
   "cell_type": "markdown",
   "metadata": {},
   "source": [
    "# Feature Extraction\n",
    "The purpose of this document is to determine the subset of features from which the best model can be obtained. Specifically, we will be using feature selection to select a subset of the most relevant features. Fewer features will allow the model to be trained more efficiently and can also result in better predictive performance.\n",
    "\n",
    "The methods of feature selection that will be investigated here include:\n",
    "\n",
    "1. Random Forest feature importance.\n",
    "2. Random Forest permutation importance.<br>\n",
    "    a. Basic permutation. <br>\n",
    "    b. Clustered permutation. <br>\n",
    "3. Covariance matrix correlation.<br>\n",
    "    a. Correlation of features with the target.<br>\n",
    "    b. Correlation between features.<br>\n",
    "4. Sequential feature selection.<br>\n",
    "    a. Forward selection.<br>\n",
    "    b. Backward elimination.<br>\n",
    "5. Recursive feature elimination.\n",
    "\n",
    "To begin, we will import the necessary libraries and load the raw summary data.\n"
   ]
  },
  {
   "cell_type": "code",
   "execution_count": 2,
   "metadata": {},
   "outputs": [],
   "source": [
    "# Import necessary libraries and information.\n",
    "import numpy as np\n",
    "import pandas as pd\n",
    "import seaborn as sns\n",
    "import matplotlib.pyplot as plt\n",
    "from collections import defaultdict\n",
    "from sklearn.ensemble import RandomForestRegressor\n",
    "from sklearn.feature_selection import SequentialFeatureSelector, RFECV, RFE\n",
    "from sklearn.inspection import permutation_importance\n",
    "from sklearn.model_selection import RandomizedSearchCV\n",
    "from scipy.stats import spearmanr\n",
    "from scipy.cluster import hierarchy\n",
    "from scipy.spatial.distance import squareform\n",
    "from lib.constants import DATA_PATH\n",
    "\n",
    "# Load batter summary data.\n",
    "summary = pd.read_csv(DATA_PATH + \"/Batter_Summary.txt\", delimiter=\"\\t\")\n"
   ]
  },
  {
   "cell_type": "markdown",
   "metadata": {},
   "source": [
    "## 1. Prepare the Data.\n",
    "Before feature selection can occur, we must first prepare the data, including:\n",
    "\n",
    "1. Converting categorical fields to a numerical.\n",
    "2. Removing redundant fields.\n",
    "3. Separating the dataset into a training and testing set.\n",
    "\n",
    "The \"Hand\" field is the only categorical data in the summary dataset. By replacing Right with a zero and Left with a one, this field can be made numerical.\n",
    "\n",
    "The Batter ID and Name fields can be removed as they are only included to identify each record. \n",
    "\n",
    "We will split our dataset into a training and validation set. The model will be developed using the training set and validated on the validation set. For this project, the validation set will consist of the 12 most recent One Day International batters, while the training set will be all other batsmen. This is to simulate how the model would be used in practice, where its performance is determined by how well it can predict the batting average of new One Day International batters."
   ]
  },
  {
   "cell_type": "code",
   "execution_count": 3,
   "metadata": {},
   "outputs": [],
   "source": [
    "# Replace batter hand with a numeric representation (Right Hand = 0, Left Hand = 1).\n",
    "summary[\"Hand\"] = np.where(summary[\"Hand\"] == \"Right\", 0, 1)\n",
    "summary = summary.drop(columns=[\"Name\", \"Batter_ID\"])\n",
    "\n",
    "# Extract features and labels.\n",
    "X = summary.drop(columns=[\"International_One_Day_Batting_Average\"])\n",
    "y = summary[\"International_One_Day_Batting_Average\"]\n",
    "\n",
    "# Split the training and test datasets.\n",
    "X_train = X[:-12]\n",
    "X_test = X[-12:]\n",
    "y_train = y[:-12]\n",
    "y_test = y[-12:]\n",
    "\n",
    "# Fill missing training data with the columns median.\n",
    "X_train = X_train.fillna(X_train.median())\n"
   ]
  },
  {
   "cell_type": "markdown",
   "metadata": {},
   "source": [
    "## 2. Basic Hyperparameter Tuning.\n",
    "The purpose of this section is to obtain a set of reasonable hyperparameters for a simple Random Forest model. These hyperparameters are by no means optimised. Optimisation will occur in the next document, once the best features have been chosen for the model.\n",
    "\n",
    "Here, we test combinations of several Random Forest hyperparameters, including:\n",
    "\n",
    "1. n_estimators - Number of trees in the forest.\n",
    "2. max_features - Maximum number of features considered for splitting a node.\n",
    "3. max_depth - Maximum number of levels in each decision tree.\n",
    "4. min_samples_split - Minimum number of data points placed in a node before the node is split.\n",
    "5. min_samples_leaf - Minimum number of data points allowed in a leaf node.\n",
    "6. bootstrap - Method for sampling data points (with or without replacement).\n",
    "\n",
    "To create an approximation of reasonable hyperparameters, we will use RandomizedSearchCV. This allows us to test multiple combinations of hyperparameters without trying all possible combinations.\n",
    "\n",
    "Below, we create a parameter grid defining the possible values that each parameter can take."
   ]
  },
  {
   "cell_type": "code",
   "execution_count": 4,
   "metadata": {},
   "outputs": [],
   "source": [
    "# Number of trees in the forest.\n",
    "n_estimators = [int(x) for x in np.linspace(start=100, stop=500, num=21)]\n",
    "\n",
    "# Number of features to consider at every split.\n",
    "max_features = [\"auto\", \"sqrt\"]\n",
    "\n",
    "# Maximum number of levels in each tree.\n",
    "max_depth = [int(x) for x in np.linspace(start=10, stop=40, num=11)]\n",
    "max_depth.append(None)\n",
    "\n",
    "# Minimum number of samples required to split a node.\n",
    "min_samples_split = [2, 5, 10]\n",
    "\n",
    "# Minimum number of samples required at each leaf node.\n",
    "min_samples_leaf = [1, 2, 4]\n",
    "\n",
    "# Method of selecting samples for training each tree.\n",
    "bootstrap = [True, False]\n",
    "\n",
    "# Create the parameter grid.\n",
    "param_grid = {\"n_estimators\": n_estimators,\n",
    "              \"max_features\": max_features,\n",
    "              \"max_depth\": max_depth,\n",
    "              \"min_samples_split\": min_samples_split,\n",
    "              \"min_samples_leaf\": min_samples_leaf,\n",
    "              \"bootstrap\": bootstrap}\n"
   ]
  },
  {
   "cell_type": "markdown",
   "metadata": {},
   "source": [
    "With the parameter grid defined, we can use RandomizedSearchCV to find a reasonable combination of parameters."
   ]
  },
  {
   "cell_type": "code",
   "execution_count": 4,
   "metadata": {},
   "outputs": [
    {
     "data": {
      "text/plain": [
       "{'n_estimators': 100,\n",
       " 'min_samples_split': 5,\n",
       " 'min_samples_leaf': 4,\n",
       " 'max_features': 'sqrt',\n",
       " 'max_depth': 22,\n",
       " 'bootstrap': True}"
      ]
     },
     "execution_count": 4,
     "metadata": {},
     "output_type": "execute_result"
    }
   ],
   "source": [
    "# Create the random forest regressor.\n",
    "rfr = RandomForestRegressor()\n",
    "\n",
    "# Create the random search cross-validator.\n",
    "rfr_random = RandomizedSearchCV(\n",
    "    estimator=rfr, param_distributions=param_grid, n_iter=2000, cv=3, n_jobs=-1)\n",
    "\n",
    "# Fit the random search model.\n",
    "rfr_random.fit(X_train, y_train)\n",
    "\n",
    "# Print the best parameters for the model.\n",
    "rfr_random.best_params_\n"
   ]
  },
  {
   "cell_type": "markdown",
   "metadata": {},
   "source": [
    "Now, we can test the accuracy of the Random Forest using the default parameters, as well as the RandomizedSearchCV parameters."
   ]
  },
  {
   "cell_type": "code",
   "execution_count": 5,
   "metadata": {},
   "outputs": [
    {
     "name": "stdout",
     "output_type": "stream",
     "text": [
      "Model accuracy using default parameters: 0.6814970107019538\n",
      "Model accuracy using RandomizedSearchCV parameters: 0.7418600371428083\n"
     ]
    }
   ],
   "source": [
    "rfr_accuracy = 0\n",
    "rfr_random_accuracy = 0\n",
    "num_tests = 200\n",
    "\n",
    "for _ in range(num_tests):\n",
    "  rfr = RandomForestRegressor()\n",
    "  rfr_random = RandomForestRegressor(n_estimators=100, min_samples_split=5,\n",
    "                                     min_samples_leaf=4, max_features=\"sqrt\", max_depth=22, bootstrap=True)\n",
    "\n",
    "  rfr.fit(X_train, y_train)\n",
    "  rfr_random.fit(X_train, y_train)\n",
    "\n",
    "  rfr_accuracy += rfr.score(X_test, y_test)\n",
    "  rfr_random_accuracy += rfr_random.score(X_test, y_test)\n",
    "\n",
    "rfr_accuracy /= num_tests\n",
    "rfr_random_accuracy /= num_tests\n",
    "\n",
    "print(\"Model accuracy using default parameters: {}\".format(rfr_accuracy))\n",
    "print(\"Model accuracy using RandomizedSearchCV parameters: {}\".format(\n",
    "    rfr_random_accuracy))\n"
   ]
  },
  {
   "cell_type": "markdown",
   "metadata": {},
   "source": [
    "## 3. Setup.\n",
    "Below, we define two functions, including:\n",
    "\n",
    "1. A function to systematically create a RandomForestRegressor using consistent hyperparameters.\n",
    "2. A function to test the average accuracy of a RandomForestRegressor.\n",
    "\n",
    "These functions aid in simplifying code and ensuring consistency in the testing process."
   ]
  },
  {
   "cell_type": "code",
   "execution_count": 5,
   "metadata": {},
   "outputs": [],
   "source": [
    "# Function for creating the random forest regressor.\n",
    "def create_random_forest_regressor():\n",
    "  # Define hyperparameters.\n",
    "  n_estimators = 100\n",
    "  min_samples_split = 5\n",
    "  min_samples_leaf = 4\n",
    "  max_features = \"sqrt\"\n",
    "  max_depth = 22\n",
    "  bootstrap = True\n",
    "\n",
    "  # Create the model.\n",
    "  rfr = RandomForestRegressor(n_estimators=n_estimators, min_samples_split=min_samples_split,\n",
    "                              min_samples_leaf=min_samples_leaf, max_features=max_features, max_depth=max_depth, bootstrap=bootstrap)\n",
    "\n",
    "  # Return the model.\n",
    "  return rfr\n"
   ]
  },
  {
   "cell_type": "code",
   "execution_count": 6,
   "metadata": {},
   "outputs": [],
   "source": [
    "# Function to test the average accuracy of a model for given data.\n",
    "def test_average_accuracy(X_train, X_test, y_train, y_test, num_tests=250):\n",
    "  accuracy = 0\n",
    "\n",
    "  # Train and test the model repeatedly.\n",
    "  for _ in range(num_tests):\n",
    "    rfr = create_random_forest_regressor()\n",
    "    rfr.fit(X_train, y_train)\n",
    "    accuracy += rfr.score(X_test, y_test)\n",
    "\n",
    "  # Return the average score for the model.\n",
    "  return accuracy / num_tests\n"
   ]
  },
  {
   "cell_type": "markdown",
   "metadata": {},
   "source": [
    "## 4. Random Forests.\n",
    "Random Forests provided two useful methods for determining feature importance:\n",
    "\n",
    "1. Feature importance based on impurity.\n",
    "2. Feature importance based on permutations.\n",
    "\n",
    "We will explore both methods in their respective sections below."
   ]
  },
  {
   "cell_type": "markdown",
   "metadata": {},
   "source": [
    "### 4.1 Feature Importance Based on Decrease in Impurity.\n",
    "The standard approach of measuring feature importance in a Random Forest is based on the Mean Decrease in Impurity (MDI). MDI for a feature is calculated as the sum of the number of splits that include the feature, proportionally to the number of samples it splits.\n",
    "\n",
    "There are two main limitations of impurity-based feature importances:\n",
    "\n",
    "1. Impurity-based feature importances are biased towards high cardinality features.\n",
    "2. Impurity-based feature importances are computed on training set statistics and therefore do not reflect the ability of the feature to be useful in making predictions that generalise to the test set.\n",
    "\n",
    "Feature importance based on impurity is explored below."
   ]
  },
  {
   "cell_type": "code",
   "execution_count": 7,
   "metadata": {},
   "outputs": [
    {
     "data": {
      "text/plain": [
       "Domestic_Test_Average_Entering_Ball               0.067363\n",
       "Domestic_Test_Average_Entering_Score              0.061917\n",
       "Domestic_One_Day_Average_Ball_Count               0.058420\n",
       "Domestic_One_Day_Runs_Per_Innings_Average         0.045153\n",
       "Domestic_One_Day_Team_Run_Contribution_Percent    0.042735\n",
       "                                                    ...   \n",
       "Domestic_One_Day_Hit_Wicket_Percent               0.000000\n",
       "Domestic_One_Day_Handled_Ball_Percent             0.000000\n",
       "Domestic_T20_150_Rate                             0.000000\n",
       "Domestic_T20_300_Rate                             0.000000\n",
       "Domestic_One_Day_250_Rate                         0.000000\n",
       "Length: 127, dtype: float64"
      ]
     },
     "execution_count": 7,
     "metadata": {},
     "output_type": "execute_result"
    }
   ],
   "source": [
    "# Define and initialise variables.\n",
    "num_tests = 1000\n",
    "num_valid = 0\n",
    "feature_names = X_train.columns\n",
    "impurity_importances = pd.Series(0, feature_names)\n",
    "\n",
    "# Run tests keeping track of each features importance.\n",
    "for _ in range(num_tests):\n",
    "    rfr = create_random_forest_regressor()\n",
    "    rfr.fit(X_train, y_train)\n",
    "\n",
    "    # Determine the feature importance for this run.\n",
    "    temp_feature_importance = pd.Series(\n",
    "        rfr.feature_importances_, index=feature_names)\n",
    "\n",
    "    # Keep track of each runs feature importance.\n",
    "    impurity_importances = impurity_importances.add(\n",
    "        temp_feature_importance)\n",
    "\n",
    "    # Track how many high-performing models occur.\n",
    "    num_valid += 1\n",
    "\n",
    "# Rescale and order the feature importance.\n",
    "impurity_importances /= num_valid\n",
    "impurity_importances = impurity_importances.sort_values(ascending=False)\n",
    "impurity_importances\n"
   ]
  },
  {
   "cell_type": "markdown",
   "metadata": {},
   "source": [
    "We can visualise the importance of each feature in a bar graph. Due to the large number of features, we will be able to distinguish where each feature falls on the graph, however, it does give a sense of how widely dispersed the importance of each feature is. For example, we can see that the first quarter of features provides the most substantial contribution to the model's accuracy."
   ]
  },
  {
   "cell_type": "code",
   "execution_count": 8,
   "metadata": {},
   "outputs": [
    {
     "data": {
      "image/png": "[encoded data removed]",
      "text/plain": [
       "<Figure size 432x288 with 1 Axes>"
      ]
     },
     "metadata": {},
     "output_type": "display_data"
    }
   ],
   "source": [
    "# Create a bar plot.\n",
    "fig = plt.figure()\n",
    "sns.barplot(x=impurity_importances, y=impurity_importances.index)\n",
    "\n",
    "# Label graph.\n",
    "plt.tick_params(axis=\"y\", labelleft=False)\n",
    "plt.xlabel(\"Feature Importance Score (%)\")\n",
    "plt.ylabel(\"Features\")\n",
    "plt.title(\"Visualising Feature Impurity Importance\")\n",
    "fig.patch.set_facecolor((1, 1, 1))\n",
    "plt.show()\n"
   ]
  },
  {
   "cell_type": "markdown",
   "metadata": {},
   "source": [
    "Additionally, we can visualise how the model accuracy changes when successively adding the most important features. We will sequentially add the most important features determined by the Random Forest, and observe how the model’s accuracy changes. This will allow us to see if there is a plateau in accuracy from which the feature set can be truncated."
   ]
  },
  {
   "cell_type": "code",
   "execution_count": 9,
   "metadata": {},
   "outputs": [
    {
     "data": {
      "image/png": "[encoded data removed]",
      "text/plain": [
       "<Figure size 432x288 with 1 Axes>"
      ]
     },
     "metadata": {},
     "output_type": "display_data"
    }
   ],
   "source": [
    "# Initialise an array to keep track of the accuracy for each number of features.\n",
    "accuracies = []\n",
    "\n",
    "# Determine the accuracy for each number of most important features.\n",
    "for i in range(1, len(impurity_importances)):\n",
    "  # Create the test and training sets for the reduced features.\n",
    "  features = impurity_importances[:i].index.tolist()\n",
    "  X_train_temp = X_train[features]\n",
    "  X_test_temp = X_test[features]\n",
    "\n",
    "  # Create an average accuracy.\n",
    "  num_tests = 40\n",
    "  accuracy = test_average_accuracy(\n",
    "      X_train_temp, X_test_temp, y_train, y_test, num_tests)\n",
    "\n",
    "  # Add the accuracy to the accuracies list.\n",
    "  accuracies.append(accuracy)\n",
    "\n",
    "# Display the accuracy.\n",
    "fig = plt.figure()\n",
    "plt.plot(range(1, len(impurity_importances)), accuracies, linewidth=5, color=\"#003b63\")\n",
    "plt.xlim([1, len(impurity_importances)])\n",
    "plt.ylim([0, 1])\n",
    "plt.xlabel(\"Number of Features Used\")\n",
    "plt.ylabel(\"Testing Accuracy\")\n",
    "plt.title(\"Model Accuracy Against Feature Count\")\n",
    "fig.patch.set_facecolor((1, 1, 1))\n",
    "plt.show()\n"
   ]
  },
  {
   "cell_type": "markdown",
   "metadata": {},
   "source": [
    "As the model's accuracy appears to plateau around 20 features, we can test how accurate the model is for the most important features based on impurity."
   ]
  },
  {
   "cell_type": "code",
   "execution_count": 10,
   "metadata": {},
   "outputs": [
    {
     "name": "stdout",
     "output_type": "stream",
     "text": [
      "The accuracy of the model using the 20 most important impurity features is: 0.7375330246858232\n"
     ]
    }
   ],
   "source": [
    "# Extract the most important feature according to permutation.\n",
    "important_features_impurity = impurity_importances[:20].index.tolist()\n",
    "X_train_impurity = X_train[important_features_impurity]\n",
    "X_test_impurity = X_test[important_features_impurity]\n",
    "\n",
    "# Test the accuracy of the model with reduced features.\n",
    "accuracy_IFE = test_average_accuracy(\n",
    "    X_train_impurity, X_test_impurity, y_train, y_test)\n",
    "print(\"The accuracy of the model using the 20 most important impurity features is: {}\".format(accuracy_IFE))\n"
   ]
  },
  {
   "cell_type": "markdown",
   "metadata": {},
   "source": [
    "### 4.2 Feature Importance Based on Feature Permutation.\n",
    "Permutation importance measures feature importance by randomly permuting each feature. When permuted, features of high importance should have a greater impact on model performance than less important features. This can be used to determine feature importance.\n",
    " \n",
    "Permutation importance overcomes the limitations of impurity-based feature importance: they do not have a bias toward high-cardinality features and can be computed on a left-out test set.However, the effectiveness of permutation importance can be affected by the presence of highly correlated features. For example, when two highly correlated features are present in a dataset, permuting either of the features will report low importance as the information is still accessible through its correlated feature. This will result in lower importance for both features, when they may actually be important. For this reason, we explore two types of feature permutation importance.\n",
    " \n",
    "1. The importance of basic permutation (collinearity is ignored).\n",
    "2. Clustered permutation importance (collinearity addressed). \n",
    "\n",
    "These are explored below."
   ]
  },
  {
   "cell_type": "markdown",
   "metadata": {},
   "source": [
    "#### 4.2.1 Basic Permutation Importance.\n",
    "In this section, we explore the permutation importance of each feature when disregarding collinearity."
   ]
  },
  {
   "cell_type": "code",
   "execution_count": 11,
   "metadata": {},
   "outputs": [
    {
     "data": {
      "text/plain": [
       "Domestic_Test_Average_Entering_Ball          0.031160\n",
       "Domestic_Test_Average_Entering_Score         0.029155\n",
       "Domestic_One_Day_Average_Ball_Count          0.023962\n",
       "Domestic_One_Day_50_Rate                     0.018440\n",
       "Domestic_One_Day_Runs_Per_Innings_Average    0.014690\n",
       "                                               ...   \n",
       "Domestic_Test_Handled_Ball_Percent           0.000000\n",
       "Domestic_Test_Hit_Ball_Twice_Percent         0.000000\n",
       "Domestic_T20_300_Rate                        0.000000\n",
       "Domestic_T20_250_Rate                        0.000000\n",
       "Domestic_Test_300_Rate                       0.000000\n",
       "Length: 127, dtype: float64"
      ]
     },
     "execution_count": 11,
     "metadata": {},
     "output_type": "execute_result"
    }
   ],
   "source": [
    "# Define and initialise variables.\n",
    "num_tests = 1000\n",
    "num_valid = 0\n",
    "feature_names = X_train.columns\n",
    "permutation_importances = pd.Series(0, feature_names)\n",
    "\n",
    "# Run tests keeping track of each permutation feature importance.\n",
    "for _ in range(num_tests):\n",
    "    rfr = create_random_forest_regressor()\n",
    "    rfr.fit(X_train, y_train)\n",
    "\n",
    "    # Determine the feature importance for this run.\n",
    "    temp_feature_importance = permutation_importance(\n",
    "        rfr, X_train, y_train, n_repeats=10, n_jobs=-1)\n",
    "\n",
    "    # Keep track of each runs feature importance.\n",
    "    permutation_importances = permutation_importances.add(\n",
    "        temp_feature_importance.importances_mean)\n",
    "\n",
    "    # Track how many high-performing models occur.\n",
    "    num_valid += 1\n",
    "\n",
    "# Rescale and order the feature importance.\n",
    "permutation_importances /= num_valid\n",
    "permutation_importances = permutation_importances.sort_values(ascending=False)\n",
    "permutation_importances\n"
   ]
  },
  {
   "cell_type": "markdown",
   "metadata": {},
   "source": [
    "From the above, we can conclude that permuting any feature drops the model accuracy by at most 0.0313, suggesting no features are important. However, due to the high model accuracy, we understand that some features must be important. This abnormality is likely the result of highly correlated features.\n",
    "\n",
    "Similarly to the impurity feature importance, we can get a general sense of how important each feature is by plotting them in a bar graph."
   ]
  },
  {
   "cell_type": "code",
   "execution_count": 12,
   "metadata": {},
   "outputs": [
    {
     "data": {
      "image/png": "[encoded data removed]",
      "text/plain": [
       "<Figure size 432x288 with 1 Axes>"
      ]
     },
     "metadata": {},
     "output_type": "display_data"
    }
   ],
   "source": [
    "# Create a bar plot.\n",
    "fig = plt.figure()\n",
    "sns.barplot(x=permutation_importances, y=permutation_importances.index)\n",
    "\n",
    "# Label graph.\n",
    "plt.tick_params(axis=\"y\", labelleft=False)\n",
    "plt.xlabel(\"Feature Importance Score\")\n",
    "plt.ylabel(\"Features\")\n",
    "plt.title(\"Visualising Feature Importance (Permutation)\")\n",
    "fig.patch.set_facecolor((1, 1, 1))\n",
    "plt.show()\n"
   ]
  },
  {
   "cell_type": "markdown",
   "metadata": {},
   "source": [
    "Now, we can test the model accuracy using the first 20 most important features."
   ]
  },
  {
   "cell_type": "code",
   "execution_count": 13,
   "metadata": {},
   "outputs": [
    {
     "name": "stdout",
     "output_type": "stream",
     "text": [
      "The accuracy of the model using the 20 most important permutation features is: 0.7451720420448615\n"
     ]
    }
   ],
   "source": [
    "# Extract the most important feature according to permutation.\n",
    "important_features_permutation = permutation_importances[:20].index.tolist()\n",
    "X_train_permutation = X_train[important_features_permutation]\n",
    "X_test_permutation = X_test[important_features_permutation]\n",
    "\n",
    "# Test the accuracy of the model with reduced features.\n",
    "accuracy_PFE = test_average_accuracy(\n",
    "    X_train_permutation, X_test_permutation, y_train, y_test)\n",
    "print(\"The accuracy of the model using the 20 most important permutation features is: {}\".format(accuracy_PFE))\n"
   ]
  },
  {
   "cell_type": "markdown",
   "metadata": {},
   "source": [
    "#### 4.2.2 Clustered Permuation Importance.\n",
    "In this section, highly correlated features are reduced by performing hierarchical clustering on the Spearman rank-order correlations and selecting one feature from each cluster below a given threshold. It is then possible to determine the permutation importance of each feature. \n",
    "\n",
    "To begin, we plot a heatmap of the correlated features alongside a dendrogram. "
   ]
  },
  {
   "cell_type": "code",
   "execution_count": 14,
   "metadata": {},
   "outputs": [
    {
     "data": {
      "image/png": "[encoded data removed]",
      "text/plain": [
       "<Figure size 864x576 with 2 Axes>"
      ]
     },
     "metadata": {
      "needs_background": "light"
     },
     "output_type": "display_data"
    }
   ],
   "source": [
    "# Initialise the figure.\n",
    "fig, (ax1, ax2) = plt.subplots(1, 2, figsize=(12, 8))\n",
    "\n",
    "# Remove any rows with no variance and determine correlation.\n",
    "df = X_train.loc[:, (X_train != 0).any(axis=0)]\n",
    "corr = spearmanr(df).correlation\n",
    "\n",
    "# Ensure the correlation matrix is symmetric.\n",
    "corr = (corr + corr.T) / 2\n",
    "np.fill_diagonal(corr, 1)\n",
    "\n",
    "# Convert the correlation matrix to a distance matrix before performing\n",
    "# hierarchical clustering using Ward's linkage.\n",
    "distance_matrix = 1 - np.abs(corr)\n",
    "dist_linkage = hierarchy.ward(squareform(distance_matrix))\n",
    "\n",
    "# Plot the dendrogram.\n",
    "dendro = hierarchy.dendrogram(\n",
    "    dist_linkage, ax=ax1, leaf_rotation=90,\n",
    ")\n",
    "ax1.set_title(\"Dendrogram of Clusterings\")\n",
    "ax1.tick_params(axis=\"x\", which='both', bottom=False,\n",
    "                top=False, labelbottom=False)\n",
    "\n",
    "# Plot the correlations in a heatmap.\n",
    "ax2.imshow(corr[dendro[\"leaves\"], :][:, dendro[\"leaves\"]], cmap=\"coolwarm\")\n",
    "ax2.set_title(\"Heatmap of Clustered Correlations\")\n",
    "ax2.tick_params(axis=\"x\", which='both', bottom=False,\n",
    "                top=False, labelbottom=False)\n",
    "ax2.tick_params(axis=\"y\", which='both', left=False,\n",
    "                right=False, labelleft=False)\n",
    "\n",
    "# Display the subplots.\n",
    "fig.tight_layout()\n",
    "plt.show()\n"
   ]
  },
  {
   "cell_type": "markdown",
   "metadata": {},
   "source": [
    "The dendrogram plotted above was formed by starting with each feature in its own cluster. The two most similar clusters were then combined using Ward linkage. This process was continued, reducing the number of clusters by one at each step until there was only one cluster remaining (denoted by the blue link in the above diagram). The dendrogram was used to indicate how similar clusters were based on the length of their joining link. Specifically, a shorter link signifies greater similarity than a longer link.\n",
    "\n",
    "The heat map plotted above shows the cluster correlations. The sections with the greatest intensity along the main diagonal are indicative of clusters.\n",
    "\n",
    "From the two plots, we can set a threshold below which clusters are selected. The threshold determines how closely related features should be in a cluster. Selecting a high threshold results in a few large clusters, while choosing a low threshold results in many smaller clusters.\n",
    "\n",
    "Once clusters are formed, we can choose one feature from each cluster to reduce correlation. We use Sequential Feature Selection to select the optimal feature from each cluster. More details on Sequential Feature Selection will be provided later."
   ]
  },
  {
   "cell_type": "code",
   "execution_count": 15,
   "metadata": {},
   "outputs": [
    {
     "data": {
      "text/plain": [
       "['Hand',\n",
       " 'Domestic_One_Day_Innings_Count',\n",
       " 'Domestic_One_Day_Win_Rate',\n",
       " 'Domestic_Test_Win_Rate',\n",
       " 'Domestic_T20_Innings_Count',\n",
       " 'Domestic_T20_Win_Rate',\n",
       " 'Domestic_One_Day_Match_Percent',\n",
       " 'Domestic_Test_Match_Percent',\n",
       " 'Domestic_One_Day_Caught_Percent',\n",
       " 'Domestic_One_Day_Bowled_Percent',\n",
       " 'Domestic_One_Day_LBW_Percent',\n",
       " 'Domestic_One_Day_Hit_Wicket_Percent',\n",
       " 'Domestic_One_Day_Stumped_Percent',\n",
       " 'Domestic_One_Day_Run_Out_Percent',\n",
       " 'Domestic_One_Day_Handled_Ball_Percent',\n",
       " 'Domestic_One_Day_Hit_Ball_Twice_Percent',\n",
       " 'Domestic_One_Day_Obstructed_Field_Percent',\n",
       " 'Domestic_One_Day_Timed_Out_Percent',\n",
       " 'Domestic_Test_Not_Out_Percent',\n",
       " 'Domestic_Test_Bowled_Percent',\n",
       " 'Domestic_Test_Caught_Percent',\n",
       " 'Domestic_Test_150_Rate',\n",
       " 'Domestic_Test_Hit_Wicket_Percent',\n",
       " 'Domestic_Test_Stumped_Percent',\n",
       " 'Domestic_Test_Handled_Ball_Percent',\n",
       " 'Domestic_Test_Hit_Ball_Twice_Percent',\n",
       " 'Domestic_Test_Obstructed_Field_Percent',\n",
       " 'Domestic_T20_Not_Out_Percent',\n",
       " 'Domestic_T20_Bowled_Percent',\n",
       " 'Domestic_T20_Caught_Percent',\n",
       " 'Domestic_T20_LBW_Percent',\n",
       " 'Domestic_T20_Hit_Wicket_Percent',\n",
       " 'Domestic_T20_Stumped_Percent',\n",
       " 'Domestic_One_Day_Average_Entering_Ball',\n",
       " 'Domestic_T20_Hit_Ball_Twice_Percent',\n",
       " 'Domestic_T20_150_Rate',\n",
       " 'Domestic_T20_Timed_Out_Percent',\n",
       " 'Domestic_One_Day_Dot_Rate',\n",
       " 'Domestic_One_Day_One_Rate',\n",
       " 'Domestic_One_Day_Two_Rate',\n",
       " 'Domestic_One_Day_Three_Rate',\n",
       " 'Domestic_One_Day_Four_Rate',\n",
       " 'Domestic_Test_Average_Entering_Ball',\n",
       " 'Domestic_One_Day_Runs_Per_Innings_Average',\n",
       " 'Domestic_One_Day_Runs_Per_Out_Average',\n",
       " 'Domestic_One_Day_High_Score',\n",
       " 'Domestic_Test_Dot_Rate',\n",
       " 'Domestic_Test_One_Rate',\n",
       " 'Domestic_Test_Two_Rate',\n",
       " 'Domestic_Test_Three_Rate',\n",
       " 'Domestic_Test_Four_Rate',\n",
       " 'Domestic_Test_Average_Entering_Score',\n",
       " 'Domestic_Test_Runs_Per_Out_Average',\n",
       " 'Domestic_Test_High_Score',\n",
       " 'Domestic_T20_Two_Rate',\n",
       " 'Domestic_T20_Three_Rate',\n",
       " 'Domestic_T20_Four_Rate',\n",
       " 'Domestic_T20_Five_Rate',\n",
       " 'Domestic_T20_Six_Rate',\n",
       " 'Domestic_T20_Runs_Per_Innings_Average',\n",
       " 'Domestic_T20_High_Score',\n",
       " 'Domestic_One_Day_Duck_Rate',\n",
       " 'Domestic_One_Day_Start_Rate',\n",
       " 'Domestic_One_Day_50_Rate',\n",
       " 'Domestic_One_Day_100_Rate',\n",
       " 'Domestic_One_Day_200_Rate',\n",
       " 'Domestic_One_Day_300_Rate',\n",
       " 'Domestic_T20_100_Rate',\n",
       " 'Domestic_T20_250_Rate',\n",
       " 'Domestic_T20_300_Rate']"
      ]
     },
     "execution_count": 15,
     "metadata": {},
     "output_type": "execute_result"
    }
   ],
   "source": [
    "# Extract the clusters for the given threshold.\n",
    "threshold = 0.25\n",
    "cluster_ids = hierarchy.fcluster(dist_linkage, threshold, criterion=\"distance\")\n",
    "cluster_id_to_feature_ids = defaultdict(list)\n",
    "for idx, cluster_id in enumerate(cluster_ids):\n",
    "    cluster_id_to_feature_ids[cluster_id].append(idx)\n",
    "\n",
    "# Initialise the selected features.\n",
    "important_features_permutation = []\n",
    "\n",
    "# Pick the best feature from each cluster using sequential feature selection.\n",
    "for cluster in cluster_id_to_feature_ids.values():\n",
    "    if len(cluster) == 1:\n",
    "        features = X_train.iloc[:, cluster].columns.tolist()\n",
    "        important_features_permutation.append(features[0])\n",
    "    else:\n",
    "        rfr = create_random_forest_regressor()\n",
    "        selector = SequentialFeatureSelector(\n",
    "            rfr, n_features_to_select=1, n_jobs=-1)\n",
    "        selector = selector.fit(X_train.iloc[:, cluster], y_train)\n",
    "        features = selector.get_feature_names_out(\n",
    "            X_train.iloc[:, cluster].columns.tolist())\n",
    "        important_features_permutation.append(features[0])\n",
    "\n",
    "important_features_permutation\n"
   ]
  },
  {
   "cell_type": "markdown",
   "metadata": {},
   "source": [
    "With features selected from each cluster, we can test the average model accuracy."
   ]
  },
  {
   "cell_type": "code",
   "execution_count": 16,
   "metadata": {},
   "outputs": [
    {
     "name": "stdout",
     "output_type": "stream",
     "text": [
      "The accuracy of the model using the most important clustered permutation features is: 0.7237424393054004\n"
     ]
    }
   ],
   "source": [
    "# Extract the most important feature according to permutation.\n",
    "X_train_permutation = X_train[important_features_permutation]\n",
    "X_test_permutation = X_test[important_features_permutation]\n",
    "\n",
    "# Test the accuracy of the model with reduced features.\n",
    "accuracy_PFE = test_average_accuracy(\n",
    "    X_train_permutation, X_test_permutation, y_train, y_test)\n",
    "print(\"The accuracy of the model using the most important clustered permutation features is: {}\".format(accuracy_PFE))\n"
   ]
  },
  {
   "cell_type": "markdown",
   "metadata": {},
   "source": [
    "## 5. Correlation Matrix - Determine the Correlation of Features.\n",
    "Similarly to what was done when addressing collinearity in the permutation importance, here, we will explicitly explore correlation within the model. In particular, two types of correlation will be addressed:\n",
    "\n",
    "1. Correlation between the target and its features\n",
    "2. Feature-to-feature correlation"
   ]
  },
  {
   "cell_type": "markdown",
   "metadata": {},
   "source": [
    "### 5.1 Determine the Correlation of the Target with Features.\n",
    "In this section, we explore the correlation the target has with its features. In theory, the more strongly correlated a feature is with the target, the more important the feature should be in determining the model's accuracy.\n",
    "\n",
    "Below, we plot how strongly each feature is correlated with the target."
   ]
  },
  {
   "cell_type": "code",
   "execution_count": 17,
   "metadata": {},
   "outputs": [
    {
     "data": {
      "image/png": "[encoded data removed]",
      "text/plain": [
       "<Figure size 432x288 with 1 Axes>"
      ]
     },
     "metadata": {},
     "output_type": "display_data"
    }
   ],
   "source": [
    "# Extract correlalation with the target.\n",
    "data = pd.merge(left=y_train, right=X_train, left_index=True, right_index=True)\n",
    "correlation = data.corr()[\"International_One_Day_Batting_Average\"]\n",
    "correlation = correlation.drop(\n",
    "    \"International_One_Day_Batting_Average\").sort_values(ascending=False)\n",
    "correlation = correlation[~correlation.isna()]\n",
    "\n",
    "# Create a bar plot.\n",
    "fig = plt.figure()\n",
    "sns.barplot(x=correlation, y=correlation.index)\n",
    "\n",
    "# Label graph.\n",
    "plt.tick_params(axis=\"y\", labelleft=False)\n",
    "plt.xlabel(\"Correlation Score\")\n",
    "plt.ylabel(\"Features\")\n",
    "plt.title(\"Visualising Feature Correlation with Target\")\n",
    "fig.patch.set_facecolor((1, 1, 1))\n",
    "plt.show()\n"
   ]
  },
  {
   "cell_type": "markdown",
   "metadata": {},
   "source": [
    "Alone, this figure does not provide much insight into selecting the optimal features for the model. However, something we may try is to see how important the correlation between the features and the target is in determining feature importance."
   ]
  },
  {
   "cell_type": "code",
   "execution_count": 18,
   "metadata": {},
   "outputs": [
    {
     "data": {
      "text/html": [
       "<div>\n",
       "<style scoped>\n",
       "    .dataframe tbody tr th:only-of-type {\n",
       "        vertical-align: middle;\n",
       "    }\n",
       "\n",
       "    .dataframe tbody tr th {\n",
       "        vertical-align: top;\n",
       "    }\n",
       "\n",
       "    .dataframe thead th {\n",
       "        text-align: right;\n",
       "    }\n",
       "</style>\n",
       "<table border=\"1\" class=\"dataframe\">\n",
       "  <thead>\n",
       "    <tr style=\"text-align: right;\">\n",
       "      <th></th>\n",
       "      <th>Impurity Ranking</th>\n",
       "      <th>Correlation</th>\n",
       "    </tr>\n",
       "  </thead>\n",
       "  <tbody>\n",
       "    <tr>\n",
       "      <th>Domestic_Test_Average_Entering_Ball</th>\n",
       "      <td>0</td>\n",
       "      <td>0</td>\n",
       "    </tr>\n",
       "    <tr>\n",
       "      <th>Domestic_Test_Average_Entering_Score</th>\n",
       "      <td>1</td>\n",
       "      <td>1</td>\n",
       "    </tr>\n",
       "    <tr>\n",
       "      <th>Domestic_One_Day_Average_Ball_Count</th>\n",
       "      <td>2</td>\n",
       "      <td>2</td>\n",
       "    </tr>\n",
       "    <tr>\n",
       "      <th>Domestic_One_Day_Runs_Per_Innings_Average</th>\n",
       "      <td>3</td>\n",
       "      <td>6</td>\n",
       "    </tr>\n",
       "    <tr>\n",
       "      <th>Domestic_One_Day_Team_Run_Contribution_Percent</th>\n",
       "      <td>4</td>\n",
       "      <td>5</td>\n",
       "    </tr>\n",
       "    <tr>\n",
       "      <th>Domestic_One_Day_Runs_Per_Out_Average</th>\n",
       "      <td>5</td>\n",
       "      <td>8</td>\n",
       "    </tr>\n",
       "    <tr>\n",
       "      <th>Domestic_One_Day_50_Rate</th>\n",
       "      <td>6</td>\n",
       "      <td>4</td>\n",
       "    </tr>\n",
       "    <tr>\n",
       "      <th>Domestic_One_Day_Average_Entering_Ball</th>\n",
       "      <td>7</td>\n",
       "      <td>11</td>\n",
       "    </tr>\n",
       "    <tr>\n",
       "      <th>Domestic_Test_Runs_Per_Innings_Average</th>\n",
       "      <td>8</td>\n",
       "      <td>9</td>\n",
       "    </tr>\n",
       "    <tr>\n",
       "      <th>Domestic_Test_Team_Run_Contribution_Percent</th>\n",
       "      <td>9</td>\n",
       "      <td>7</td>\n",
       "    </tr>\n",
       "    <tr>\n",
       "      <th>Domestic_Test_Average_Entering_Wicket</th>\n",
       "      <td>10</td>\n",
       "      <td>3</td>\n",
       "    </tr>\n",
       "    <tr>\n",
       "      <th>Domestic_One_Day_Team_High_Score_Percent</th>\n",
       "      <td>11</td>\n",
       "      <td>10</td>\n",
       "    </tr>\n",
       "    <tr>\n",
       "      <th>Domestic_One_Day_Average_Entering_Score</th>\n",
       "      <td>12</td>\n",
       "      <td>12</td>\n",
       "    </tr>\n",
       "    <tr>\n",
       "      <th>Domestic_Test_Runs_Per_Out_Average</th>\n",
       "      <td>13</td>\n",
       "      <td>15</td>\n",
       "    </tr>\n",
       "    <tr>\n",
       "      <th>Domestic_One_Day_Average_Entering_Wicket</th>\n",
       "      <td>14</td>\n",
       "      <td>13</td>\n",
       "    </tr>\n",
       "    <tr>\n",
       "      <th>Domestic_Test_50_Rate</th>\n",
       "      <td>15</td>\n",
       "      <td>34</td>\n",
       "    </tr>\n",
       "    <tr>\n",
       "      <th>Domestic_Test_Team_High_Score_Percent</th>\n",
       "      <td>16</td>\n",
       "      <td>14</td>\n",
       "    </tr>\n",
       "    <tr>\n",
       "      <th>Domestic_One_Day_High_Score</th>\n",
       "      <td>17</td>\n",
       "      <td>33</td>\n",
       "    </tr>\n",
       "    <tr>\n",
       "      <th>Domestic_T20_Average_Ball_Count</th>\n",
       "      <td>18</td>\n",
       "      <td>22</td>\n",
       "    </tr>\n",
       "    <tr>\n",
       "      <th>Domestic_One_Day_Start_Rate</th>\n",
       "      <td>19</td>\n",
       "      <td>19</td>\n",
       "    </tr>\n",
       "  </tbody>\n",
       "</table>\n",
       "</div>"
      ],
      "text/plain": [
       "                                                Impurity Ranking  Correlation\n",
       "Domestic_Test_Average_Entering_Ball                            0            0\n",
       "Domestic_Test_Average_Entering_Score                           1            1\n",
       "Domestic_One_Day_Average_Ball_Count                            2            2\n",
       "Domestic_One_Day_Runs_Per_Innings_Average                      3            6\n",
       "Domestic_One_Day_Team_Run_Contribution_Percent                 4            5\n",
       "Domestic_One_Day_Runs_Per_Out_Average                          5            8\n",
       "Domestic_One_Day_50_Rate                                       6            4\n",
       "Domestic_One_Day_Average_Entering_Ball                         7           11\n",
       "Domestic_Test_Runs_Per_Innings_Average                         8            9\n",
       "Domestic_Test_Team_Run_Contribution_Percent                    9            7\n",
       "Domestic_Test_Average_Entering_Wicket                         10            3\n",
       "Domestic_One_Day_Team_High_Score_Percent                      11           10\n",
       "Domestic_One_Day_Average_Entering_Score                       12           12\n",
       "Domestic_Test_Runs_Per_Out_Average                            13           15\n",
       "Domestic_One_Day_Average_Entering_Wicket                      14           13\n",
       "Domestic_Test_50_Rate                                         15           34\n",
       "Domestic_Test_Team_High_Score_Percent                         16           14\n",
       "Domestic_One_Day_High_Score                                   17           33\n",
       "Domestic_T20_Average_Ball_Count                               18           22\n",
       "Domestic_One_Day_Start_Rate                                   19           19"
      ]
     },
     "execution_count": 18,
     "metadata": {},
     "output_type": "execute_result"
    }
   ],
   "source": [
    "# Rank the correlation importance.\n",
    "cov_ranking = correlation.to_frame().copy()\n",
    "cov_ranking = cov_ranking.rename(\n",
    "    {cov_ranking.columns[0]: \"Correlation\"}, axis=1)\n",
    "cov_ranking[\"Correlation\"] = abs(cov_ranking[\"Correlation\"])\n",
    "cov_ranking = cov_ranking.sort_values(by=\"Correlation\", ascending=False)\n",
    "cov_ranking[\"Correlation\"] = np.arange(len(cov_ranking))\n",
    "\n",
    "# Rank the impurity importance.\n",
    "imp_ranking = impurity_importances.to_frame().copy()\n",
    "imp_ranking = imp_ranking[imp_ranking.index.isin(cov_ranking.index.tolist())]\n",
    "imp_ranking = imp_ranking.rename(\n",
    "    {imp_ranking.columns[0]: \"Impurity Ranking\"}, axis=1)\n",
    "imp_ranking[\"Impurity Ranking\"] = np.arange(len(imp_ranking))\n",
    "\n",
    "# Merge correlation importance and impurity importance for comparison.\n",
    "correlation_comparison = pd.merge(\n",
    "    left=imp_ranking, right=cov_ranking, left_index=True, right_index=True, how=\"left\")\n",
    "correlation_comparison[:20]\n"
   ]
  },
  {
   "cell_type": "markdown",
   "metadata": {},
   "source": [
    "From this, we can see that feature importance and feature correlation with the target are highly related."
   ]
  },
  {
   "cell_type": "markdown",
   "metadata": {},
   "source": [
    "### 5.2 Determine the Correlation Between Features.\n",
    "While it is important to know how related the features are to the target, it is also important to know how related the features are to each other.\n",
    "\n",
    "Highly correlated features can have detrimental effects on model performance and may reduce the accuracy of claims made about the importance of features in the model. For example, in a random forest model, if there are highly correlated features, the model can choose any of the features as an important predictor without preference for one over the other. With this feature chosen, the other features correlated with it will be assigned low importance as the impurity they are able to remove has already been removed by the chosen feature. From a model perspective, this will not reduce model accuracy. However, it could result in highly predictive features being regarded as unimportant.\n",
    "\n",
    "Below, we explore the correlation of the features in a heatmap."
   ]
  },
  {
   "cell_type": "code",
   "execution_count": 19,
   "metadata": {},
   "outputs": [
    {
     "data": {
      "image/png": "[encoded data removed]",
      "text/plain": [
       "<Figure size 432x288 with 2 Axes>"
      ]
     },
     "metadata": {
      "needs_background": "light"
     },
     "output_type": "display_data"
    }
   ],
   "source": [
    "# Extract the correlation.\n",
    "correlation = X[impurity_importances[:56].index.tolist()].corr()\n",
    "\n",
    "# Plot the correlation matrix as a heat map.\n",
    "sns.heatmap(correlation, cbar=True, square=True, cmap=\"coolwarm\")\n",
    "plt.tick_params(axis=\"y\", which='both', left=False,\n",
    "                right=False, labelleft=False)\n",
    "plt.tick_params(axis=\"x\", which='both', bottom=False,\n",
    "                top=False, labelbottom=False)\n",
    "plt.title(\"Correlation matrix showing correlation\")\n",
    "plt.tight_layout()\n",
    "plt.show()\n"
   ]
  },
  {
   "cell_type": "markdown",
   "metadata": {},
   "source": [
    "From the above figure, it would be possible to set a threshold to remove highly correlated features. However, it is possible for features to be highly correlated while also providing useful information. In the context of cricket, a player's batting average and the number of balls they face are highly correlated. However, these each provide useful insights into a batter that the other can't. Removing correlated features in a blunt-force method isn't recommended."
   ]
  },
  {
   "cell_type": "markdown",
   "metadata": {},
   "source": [
    "## 6. Sequential Feature Selection.\n",
    "Sequential Feature Selection is a method by which features are added or removed from a model to optimise performance. This is done in a greedy fashion, where the best feature to add or remove is based on the cross-validation score.\n",
    "\n",
    "In this section, we explore two methods:\n",
    "\n",
    "1. Forward Sequential Feature Selection.\n",
    "2. Backward Sequential Feature Elimination."
   ]
  },
  {
   "cell_type": "markdown",
   "metadata": {},
   "source": [
    "### 6.1 Forward Sequential Feature Selection.\n",
    "Forward Sequential Feature Selection (SFS) is a method by which features are sequentially added to the model. First, the best single feature is selected. Then a second feature is chosen in combination with the first to produce the highest performing model. This process is continued until the desired number of features are selected.\n",
    "\n",
    "Below, we investigate this approach."
   ]
  },
  {
   "cell_type": "code",
   "execution_count": 20,
   "metadata": {},
   "outputs": [],
   "source": [
    "# Create and train an SFS selector.\n",
    "rfr = create_random_forest_regressor()\n",
    "selector_SFS = SequentialFeatureSelector(\n",
    "    rfr, n_features_to_select=30, n_jobs=-1)\n",
    "selector_SFS = selector_SFS.fit(X_train, y_train)\n"
   ]
  },
  {
   "cell_type": "markdown",
   "metadata": {},
   "source": [
    "With the SFS selector trained, we can determine which features are the most important."
   ]
  },
  {
   "cell_type": "code",
   "execution_count": 21,
   "metadata": {},
   "outputs": [
    {
     "data": {
      "text/plain": [
       "array(['Hand', 'Domestic_One_Day_Innings_Count',\n",
       "       'Domestic_T20_Match_Count', 'Domestic_T20_Win_Rate',\n",
       "       'Domestic_One_Day_Caught_Percent', 'Domestic_One_Day_LBW_Percent',\n",
       "       'Domestic_One_Day_Handled_Ball_Percent',\n",
       "       'Domestic_One_Day_Obstructed_Field_Percent',\n",
       "       'Domestic_One_Day_Timed_Out_Percent', 'Domestic_Test_LBW_Percent',\n",
       "       'Domestic_Test_Hit_Ball_Twice_Percent',\n",
       "       'Domestic_T20_Not_Out_Percent', 'Domestic_T20_Bowled_Percent',\n",
       "       'Domestic_T20_Hit_Ball_Twice_Percent', 'Domestic_Test_Four_Rate',\n",
       "       'Domestic_T20_One_Rate', 'Domestic_T20_Two_Rate',\n",
       "       'Domestic_One_Day_50_Rate', 'Domestic_One_Day_300_Rate',\n",
       "       'Domestic_Test_250_Rate', 'Domestic_Test_300_Rate',\n",
       "       'Domestic_T20_100_Rate', 'Domestic_T20_150_Rate',\n",
       "       'Domestic_One_Day_Average_Entering_Wicket',\n",
       "       'Domestic_Test_Average_Entering_Ball',\n",
       "       'Domestic_One_Day_Average_Ball_Count',\n",
       "       'Domestic_Test_Average_Ball_Count',\n",
       "       'Domestic_Test_False_Shot_Rate', 'Domestic_Test_Strike_Rate',\n",
       "       'Domestic_One_Day_Team_Run_Contribution_Percent'], dtype=object)"
      ]
     },
     "execution_count": 21,
     "metadata": {},
     "output_type": "execute_result"
    }
   ],
   "source": [
    "# Extract the features chosen by SFS.\n",
    "features_SFS = selector_SFS.get_feature_names_out(X_train.columns.tolist())\n",
    "features_SFS\n"
   ]
  },
  {
   "cell_type": "markdown",
   "metadata": {},
   "source": [
    "Now, we can determine the accuracy of the Random Forest model, using the reduced SFS feature set."
   ]
  },
  {
   "cell_type": "code",
   "execution_count": 22,
   "metadata": {},
   "outputs": [
    {
     "name": "stdout",
     "output_type": "stream",
     "text": [
      "The accuracy using features from Successive Forward Selection is: 0.6945457107025317\n"
     ]
    }
   ],
   "source": [
    "# Create a new reduced dataset from the SFS features.\n",
    "X_train_SFS = X_train[features_SFS]\n",
    "X_test_SFS = X_test[features_SFS]\n",
    "\n",
    "# Print the accuracy using RFE features.\n",
    "accuracy_SFS = test_average_accuracy(X_train_SFS, X_test_SFS, y_train, y_test)\n",
    "print(\"The accuracy using features from Successive Forward Selection is: {}\".format(accuracy_SFS))\n"
   ]
  },
  {
   "cell_type": "markdown",
   "metadata": {},
   "source": [
    "### 6.2 Backward Elimination Feature Selection.\n",
    "Backward Sequential Feature Selection (SBS) is a method in which features are sequentially removed from the model. The model begins with n features, then for each subset with n-1 features, the model is tested. The n-1 features that produce the best model are retained. This is repeated for subsets n-2, n-3,... until the desired number of features remains.\n",
    "\n",
    "Below, we investigate this approach."
   ]
  },
  {
   "cell_type": "code",
   "execution_count": 23,
   "metadata": {},
   "outputs": [],
   "source": [
    "# Create and train an SBS selector.\n",
    "rfr = create_random_forest_regressor()\n",
    "selector_SBS = SequentialFeatureSelector(\n",
    "    rfr, direction=\"backward\", n_features_to_select=30, n_jobs=-1)\n",
    "selector_SBS = selector_SBS.fit(X_train, y_train)\n"
   ]
  },
  {
   "cell_type": "markdown",
   "metadata": {},
   "source": [
    "With the SBS selector trained, we can determine which features are the most important."
   ]
  },
  {
   "cell_type": "code",
   "execution_count": 24,
   "metadata": {},
   "outputs": [
    {
     "data": {
      "text/plain": [
       "array(['Domestic_One_Day_Match_Count', 'Domestic_One_Day_Match_Percent',\n",
       "       'Domestic_Test_Innings_Percent',\n",
       "       'Domestic_One_Day_Run_Out_Percent',\n",
       "       'Domestic_One_Day_Hit_Ball_Twice_Percent',\n",
       "       'Domestic_Test_Bowled_Percent', 'Domestic_Test_Hit_Wicket_Percent',\n",
       "       'Domestic_Test_Timed_Out_Percent',\n",
       "       'Domestic_T20_Obstructed_Field_Percent',\n",
       "       'Domestic_One_Day_Six_Rate',\n",
       "       'Domestic_One_Day_Runs_Per_Innings_Average',\n",
       "       'Domestic_Test_One_Rate', 'Domestic_Test_Four_Rate',\n",
       "       'Domestic_Test_High_Score', 'Domestic_T20_Five_Rate',\n",
       "       'Domestic_One_Day_50_Rate', 'Domestic_One_Day_250_Rate',\n",
       "       'Domestic_One_Day_300_Rate', 'Domestic_Test_300_Rate',\n",
       "       'Domestic_T20_100_Rate', 'Domestic_T20_150_Rate',\n",
       "       'Domestic_T20_200_Rate', 'Domestic_T20_250_Rate',\n",
       "       'Domestic_One_Day_Average_Entering_Wicket',\n",
       "       'Domestic_Test_Average_Entering_Ball',\n",
       "       'Domestic_Test_Average_Entering_Wicket',\n",
       "       'Domestic_T20_Average_Entering_Score',\n",
       "       'Domestic_One_Day_Average_Ball_Count',\n",
       "       'Domestic_One_Day_Strike_Rate', 'Domestic_T20_Strike_Rate'],\n",
       "      dtype=object)"
      ]
     },
     "execution_count": 24,
     "metadata": {},
     "output_type": "execute_result"
    }
   ],
   "source": [
    "# Extract the features chosen by SBS.\n",
    "features_SBS = selector_SBS.get_feature_names_out(X_train.columns.tolist())\n",
    "features_SBS\n"
   ]
  },
  {
   "cell_type": "markdown",
   "metadata": {},
   "source": [
    "Now, we can determine the accuracy of the Random Forest model, using the reduced SBS feature set."
   ]
  },
  {
   "cell_type": "code",
   "execution_count": 25,
   "metadata": {},
   "outputs": [
    {
     "name": "stdout",
     "output_type": "stream",
     "text": [
      "The accuracy using features from Successive Backward Selection is: 0.6880110520811772\n"
     ]
    }
   ],
   "source": [
    "# Create a new reduced dataset from the SBS features.\n",
    "X_train_SBS = X_train[features_SBS]\n",
    "X_test_SBS = X_test[features_SBS]\n",
    "\n",
    "# Print the accuracy using RFE features.\n",
    "accuracy_SBS = test_average_accuracy(X_train_SBS, X_test_SBS, y_train, y_test)\n",
    "print(\"The accuracy using features from Successive Backward Selection is: {}\".format(accuracy_SBS))\n"
   ]
  },
  {
   "cell_type": "markdown",
   "metadata": {},
   "source": [
    "## 7. Recursive Feature Elimination.\n",
    "Recursive Feature Elimination (RFE) is a method of feature selection in which features are recursively removed until the required number of features remain. This occurs by repeatedly fitting the model and ranking its features by importance. The least important feature is then discarded.\n",
    "\n",
    "Below, we explore the use of this technique."
   ]
  },
  {
   "cell_type": "code",
   "execution_count": 26,
   "metadata": {},
   "outputs": [],
   "source": [
    "# Create and train an RFE selector.\n",
    "rfr = create_random_forest_regressor()\n",
    "selector_RFE = RFECV(rfr, min_features_to_select=10, n_jobs=-1)\n",
    "selector_RFE = selector_RFE.fit(X_train, y_train)\n"
   ]
  },
  {
   "cell_type": "markdown",
   "metadata": {},
   "source": [
    "With the RFE selector trained, we can determine which features are the most important."
   ]
  },
  {
   "cell_type": "code",
   "execution_count": 27,
   "metadata": {},
   "outputs": [
    {
     "data": {
      "text/plain": [
       "array(['Domestic_One_Day_Match_Count', 'Domestic_Test_Innings_Count',\n",
       "       'Domestic_T20_Not_Out_Percent', 'Domestic_One_Day_Six_Rate',\n",
       "       'Domestic_One_Day_Runs_Per_Innings_Average',\n",
       "       'Domestic_One_Day_Runs_Per_Out_Average',\n",
       "       'Domestic_One_Day_High_Score',\n",
       "       'Domestic_Test_Runs_Per_Innings_Average',\n",
       "       'Domestic_Test_Runs_Per_Out_Average', 'Domestic_Test_High_Score',\n",
       "       'Domestic_T20_Two_Rate', 'Domestic_T20_Four_Rate',\n",
       "       'Domestic_One_Day_50_Rate', 'Domestic_Test_Start_Rate',\n",
       "       'Domestic_Test_50_Rate', 'Domestic_Test_150_Rate',\n",
       "       'Domestic_T20_50_Rate', 'Domestic_One_Day_Average_Entering_Ball',\n",
       "       'Domestic_One_Day_Average_Entering_Score',\n",
       "       'Domestic_One_Day_Average_Entering_Wicket',\n",
       "       'Domestic_Test_Average_Entering_Ball',\n",
       "       'Domestic_Test_Average_Entering_Score',\n",
       "       'Domestic_Test_Average_Entering_Wicket',\n",
       "       'Domestic_T20_Average_Entering_Score',\n",
       "       'Domestic_One_Day_Average_Ball_Count',\n",
       "       'Domestic_Test_False_Shot_Rate', 'Domestic_T20_Average_Ball_Count',\n",
       "       'Domestic_One_Day_Team_Run_Contribution_Percent',\n",
       "       'Domestic_One_Day_Team_High_Score_Percent',\n",
       "       'Domestic_Test_Team_Run_Contribution_Percent',\n",
       "       'Domestic_Test_Team_High_Score_Percent'], dtype=object)"
      ]
     },
     "execution_count": 27,
     "metadata": {},
     "output_type": "execute_result"
    }
   ],
   "source": [
    "# Extract the features chosen by RFE.\n",
    "features_RFE = selector_RFE.get_feature_names_out(X_train.columns.tolist())\n",
    "features_RFE\n"
   ]
  },
  {
   "cell_type": "markdown",
   "metadata": {},
   "source": [
    "Now, we can determine the accuracy of the Random Forest model, using the reduced RFE feature set."
   ]
  },
  {
   "cell_type": "code",
   "execution_count": 28,
   "metadata": {},
   "outputs": [
    {
     "name": "stdout",
     "output_type": "stream",
     "text": [
      "The accuracy using features from Recursive Feature Elimination is: 0.7352280314188728\n"
     ]
    }
   ],
   "source": [
    "# Create a new reduced dataset from the RFE features.\n",
    "X_train_RFE = X_train[features_RFE]\n",
    "X_test_RFE = X_test[features_RFE]\n",
    "\n",
    "# Print the accuracy using RFE features.\n",
    "accuracy_RFE = test_average_accuracy(X_train_RFE, X_test_RFE, y_train, y_test)\n",
    "print(\"The accuracy using features from Recursive Feature Elimination is: {}\".format(accuracy_RFE))\n"
   ]
  },
  {
   "cell_type": "markdown",
   "metadata": {},
   "source": [
    "## 8. Combination of Feature Selection Techniques.\n",
    "Having gained insight into the different methods of feature selection, in this section, we investigate how the methods can be combined to produce the best possible feature set. This includes several steps:\n",
    "\n",
    "1. Elimination of redundant features\n",
    "2. Exclusion of highly correlated features\n",
    "3. Recursive reduction of the remaining features recursively\n",
    "\n",
    "We will begin by removing redundant features. Some features in the summary dataset are the same for all players. These features, do not contribute any meaningful information to the model."
   ]
  },
  {
   "cell_type": "code",
   "execution_count": 29,
   "metadata": {},
   "outputs": [],
   "source": [
    "# Remove columns with no variance (this is equivalent to columns of 0's in this case).\n",
    "X_train_reduced = X_train.loc[:, (X_train != 0).any(axis=0)]\n"
   ]
  },
  {
   "cell_type": "markdown",
   "metadata": {},
   "source": [
    "Next, we will determine which features are most closely related using clustering."
   ]
  },
  {
   "cell_type": "code",
   "execution_count": 30,
   "metadata": {},
   "outputs": [
    {
     "data": {
      "text/plain": [
       "defaultdict(list,\n",
       "            {69: ['Hand'],\n",
       "             32: ['Domestic_One_Day_Innings_Count',\n",
       "              'Domestic_One_Day_Match_Count',\n",
       "              'Domestic_Test_Innings_Count',\n",
       "              'Domestic_Test_Match_Count'],\n",
       "             19: ['Domestic_One_Day_Win_Rate'],\n",
       "             56: ['Domestic_Test_Win_Rate'],\n",
       "             33: ['Domestic_T20_Innings_Count', 'Domestic_T20_Match_Count'],\n",
       "             35: ['Domestic_T20_Win_Rate'],\n",
       "             41: ['Domestic_One_Day_Match_Percent',\n",
       "              'Domestic_One_Day_Innings_Percent'],\n",
       "             40: ['Domestic_Test_Match_Percent',\n",
       "              'Domestic_T20_Match_Percent',\n",
       "              'Domestic_Test_Innings_Percent',\n",
       "              'Domestic_T20_Innings_Percent'],\n",
       "             14: ['Domestic_One_Day_Not_Out_Percent'],\n",
       "             16: ['Domestic_One_Day_Bowled_Percent'],\n",
       "             15: ['Domestic_One_Day_Caught_Percent'],\n",
       "             30: ['Domestic_One_Day_LBW_Percent'],\n",
       "             72: ['Domestic_One_Day_Hit_Wicket_Percent'],\n",
       "             73: ['Domestic_One_Day_Stumped_Percent'],\n",
       "             70: ['Domestic_One_Day_Run_Out_Percent'],\n",
       "             17: ['Domestic_Test_Not_Out_Percent'],\n",
       "             75: ['Domestic_Test_Bowled_Percent'],\n",
       "             76: ['Domestic_Test_Caught_Percent'],\n",
       "             18: ['Domestic_Test_LBW_Percent'],\n",
       "             39: ['Domestic_Test_Hit_Wicket_Percent'],\n",
       "             77: ['Domestic_Test_Stumped_Percent'],\n",
       "             47: ['Domestic_Test_Run_Out_Percent'],\n",
       "             24: ['Domestic_T20_Not_Out_Percent',\n",
       "              'Domestic_T20_Average_Entering_Ball',\n",
       "              'Domestic_T20_Average_Entering_Score',\n",
       "              'Domestic_T20_Average_Entering_Wicket'],\n",
       "             60: ['Domestic_T20_Bowled_Percent'],\n",
       "             26: ['Domestic_T20_Caught_Percent'],\n",
       "             34: ['Domestic_T20_LBW_Percent'],\n",
       "             67: ['Domestic_T20_Hit_Wicket_Percent'],\n",
       "             36: ['Domestic_T20_Stumped_Percent'],\n",
       "             52: ['Domestic_T20_Run_Out_Percent'],\n",
       "             50: ['Domestic_One_Day_Dot_Rate'],\n",
       "             51: ['Domestic_One_Day_One_Rate'],\n",
       "             61: ['Domestic_One_Day_Two_Rate'],\n",
       "             42: ['Domestic_One_Day_Three_Rate'],\n",
       "             20: ['Domestic_One_Day_Four_Rate'],\n",
       "             48: ['Domestic_One_Day_Five_Rate'],\n",
       "             64: ['Domestic_One_Day_Six_Rate'],\n",
       "             5: ['Domestic_One_Day_Runs_Per_Innings_Average',\n",
       "              'Domestic_One_Day_Runs_Per_Out_Average',\n",
       "              'Domestic_One_Day_Average_Ball_Count',\n",
       "              'Domestic_One_Day_Team_Run_Contribution_Percent',\n",
       "              'Domestic_One_Day_Team_High_Score_Percent'],\n",
       "             6: ['Domestic_One_Day_High_Score', 'Domestic_One_Day_100_Rate'],\n",
       "             43: ['Domestic_Test_Dot_Rate', 'Domestic_Test_Strike_Rate'],\n",
       "             45: ['Domestic_Test_One_Rate'],\n",
       "             46: ['Domestic_Test_Two_Rate'],\n",
       "             57: ['Domestic_Test_Three_Rate'],\n",
       "             44: ['Domestic_Test_Four_Rate'],\n",
       "             31: ['Domestic_Test_Five_Rate'],\n",
       "             66: ['Domestic_Test_Six_Rate'],\n",
       "             7: ['Domestic_Test_Runs_Per_Innings_Average',\n",
       "              'Domestic_Test_Runs_Per_Out_Average',\n",
       "              'Domestic_Test_Average_Ball_Count',\n",
       "              'Domestic_Test_Team_Run_Contribution_Percent',\n",
       "              'Domestic_Test_Team_High_Score_Percent'],\n",
       "             12: ['Domestic_Test_High_Score'],\n",
       "             58: ['Domestic_T20_Dot_Rate'],\n",
       "             59: ['Domestic_T20_One_Rate'],\n",
       "             53: ['Domestic_T20_Two_Rate'],\n",
       "             29: ['Domestic_T20_Three_Rate'],\n",
       "             25: ['Domestic_T20_Four_Rate'],\n",
       "             49: ['Domestic_T20_Five_Rate'],\n",
       "             62: ['Domestic_T20_Six_Rate'],\n",
       "             21: ['Domestic_T20_Runs_Per_Innings_Average',\n",
       "              'Domestic_T20_Runs_Per_Out_Average',\n",
       "              'Domestic_T20_50_Rate',\n",
       "              'Domestic_T20_Average_Ball_Count',\n",
       "              'Domestic_T20_Team_Run_Contribution_Percent',\n",
       "              'Domestic_T20_Team_High_Score_Percent'],\n",
       "             22: ['Domestic_T20_High_Score'],\n",
       "             71: ['Domestic_One_Day_Duck_Rate'],\n",
       "             4: ['Domestic_One_Day_Start_Rate', 'Domestic_One_Day_50_Rate'],\n",
       "             37: ['Domestic_One_Day_150_Rate'],\n",
       "             78: ['Domestic_One_Day_250_Rate'],\n",
       "             27: ['Domestic_Test_Duck_Rate'],\n",
       "             9: ['Domestic_Test_Start_Rate'],\n",
       "             28: ['Domestic_Test_50_Rate'],\n",
       "             10: ['Domestic_Test_100_Rate'],\n",
       "             8: ['Domestic_Test_150_Rate'],\n",
       "             13: ['Domestic_Test_200_Rate'],\n",
       "             68: ['Domestic_Test_250_Rate'],\n",
       "             74: ['Domestic_Test_300_Rate'],\n",
       "             54: ['Domestic_T20_Duck_Rate'],\n",
       "             55: ['Domestic_T20_Start_Rate'],\n",
       "             38: ['Domestic_T20_100_Rate'],\n",
       "             23: ['Domestic_One_Day_Average_Entering_Ball',\n",
       "              'Domestic_One_Day_Average_Entering_Score',\n",
       "              'Domestic_One_Day_Average_Entering_Wicket'],\n",
       "             11: ['Domestic_Test_Average_Entering_Ball',\n",
       "              'Domestic_Test_Average_Entering_Score',\n",
       "              'Domestic_Test_Average_Entering_Wicket'],\n",
       "             1: ['Domestic_One_Day_False_Shot_Rate'],\n",
       "             65: ['Domestic_One_Day_Strike_Rate'],\n",
       "             2: ['Domestic_Test_False_Shot_Rate'],\n",
       "             3: ['Domestic_T20_False_Shot_Rate'],\n",
       "             63: ['Domestic_T20_Strike_Rate']})"
      ]
     },
     "execution_count": 30,
     "metadata": {},
     "output_type": "execute_result"
    }
   ],
   "source": [
    "# Determine Spearman correlation.\n",
    "corr = spearmanr(X_train_reduced).correlation\n",
    "\n",
    "# Ensure matrix is symmetric.\n",
    "corr = (corr + corr.T) / 2\n",
    "np.fill_diagonal(corr, 1)\n",
    "\n",
    "# Determine cluster relatedness.\n",
    "distance_matrix = 1 - np.abs(corr)\n",
    "dist_linkage = hierarchy.ward(squareform(distance_matrix))\n",
    "\n",
    "# Select clusters below the threshold.\n",
    "threshold = 0.2\n",
    "cluster_ids = hierarchy.fcluster(dist_linkage, threshold, criterion=\"distance\")\n",
    "cluster_id_to_feature_ids = defaultdict(list)\n",
    "for idx, cluster_id in enumerate(cluster_ids):\n",
    "    cluster_id_to_feature_ids[cluster_id].append(X_train_reduced.columns[idx])\n",
    "\n",
    "# Print the clusters.\n",
    "cluster_id_to_feature_ids\n"
   ]
  },
  {
   "cell_type": "markdown",
   "metadata": {},
   "source": [
    "In combination with cricket domain knowledge, the above list can be used to remove the least important and most highly correlated features."
   ]
  },
  {
   "cell_type": "code",
   "execution_count": 31,
   "metadata": {},
   "outputs": [],
   "source": [
    "# Remove highly correlated features from the above findings.\n",
    "X_train_reduced = X_train_reduced.drop(columns=[\n",
    "    \"Domestic_One_Day_Innings_Count\",\n",
    "    \"Domestic_Test_Innings_Count\",\n",
    "    \"Domestic_T20_Innings_Count\",\n",
    "    \"Domestic_One_Day_Innings_Percent\",\n",
    "    \"Domestic_Test_Innings_Percent\",\n",
    "    \"Domestic_T20_Innings_Percent\",\n",
    "    \"Domestic_One_Day_Average_Entering_Ball\",\n",
    "    \"Domestic_One_Day_Average_Entering_Score\",\n",
    "    \"Domestic_Test_Average_Entering_Ball\",\n",
    "    \"Domestic_Test_Average_Entering_Score\",\n",
    "    \"Domestic_T20_Average_Entering_Ball\",\n",
    "    \"Domestic_T20_Average_Entering_Score\",\n",
    "    \"Domestic_One_Day_Runs_Per_Innings_Average\",\n",
    "    \"Domestic_Test_Runs_Per_Innings_Average\",\n",
    "    \"Domestic_T20_Runs_Per_Innings_Average\",\n",
    "])\n"
   ]
  },
  {
   "cell_type": "markdown",
   "metadata": {},
   "source": [
    "We can now use recursive feature elimination to select the final feature set."
   ]
  },
  {
   "cell_type": "code",
   "execution_count": 32,
   "metadata": {},
   "outputs": [],
   "source": [
    "# Create a blank Random Forest Regressor.\n",
    "rfr = create_random_forest_regressor()\n",
    "\n",
    "# Use recursive feature selection to choose the best remaining features.\n",
    "selector_RFE = RFE(rfr, n_features_to_select=20)\n",
    "selector_RFE = selector_RFE.fit(X_train_reduced, y_train)\n",
    "reduced_features = selector_RFE.get_feature_names_out(\n",
    "    X_train_reduced.columns.tolist())\n"
   ]
  },
  {
   "cell_type": "markdown",
   "metadata": {},
   "source": [
    "To test the reduced feature set, we will reconstruct our training and testing sets."
   ]
  },
  {
   "cell_type": "code",
   "execution_count": 33,
   "metadata": {},
   "outputs": [],
   "source": [
    "# Create a new reduced training and test set.\n",
    "X_reduced = X[reduced_features]\n",
    "X_train_reduced = X_reduced[:-12]\n",
    "X_test_reduced = X_reduced[-12:]\n",
    "\n",
    "# We must fill missing data with the columns median.\n",
    "X_train_reduced = X_train_reduced.fillna(X_train_reduced.median())\n"
   ]
  },
  {
   "cell_type": "markdown",
   "metadata": {},
   "source": [
    "Below, we print out the selected features."
   ]
  },
  {
   "cell_type": "code",
   "execution_count": 34,
   "metadata": {},
   "outputs": [
    {
     "data": {
      "text/plain": [
       "array(['Domestic_One_Day_Match_Count', 'Domestic_Test_Match_Count',\n",
       "       'Domestic_One_Day_Runs_Per_Out_Average',\n",
       "       'Domestic_One_Day_High_Score',\n",
       "       'Domestic_Test_Runs_Per_Out_Average', 'Domestic_Test_High_Score',\n",
       "       'Domestic_One_Day_Start_Rate', 'Domestic_One_Day_50_Rate',\n",
       "       'Domestic_Test_Start_Rate', 'Domestic_Test_50_Rate',\n",
       "       'Domestic_One_Day_Average_Entering_Wicket',\n",
       "       'Domestic_Test_Average_Entering_Wicket',\n",
       "       'Domestic_One_Day_Average_Ball_Count',\n",
       "       'Domestic_Test_Average_Ball_Count',\n",
       "       'Domestic_Test_False_Shot_Rate', 'Domestic_T20_Average_Ball_Count',\n",
       "       'Domestic_One_Day_Team_Run_Contribution_Percent',\n",
       "       'Domestic_One_Day_Team_High_Score_Percent',\n",
       "       'Domestic_Test_Team_Run_Contribution_Percent',\n",
       "       'Domestic_Test_Team_High_Score_Percent'], dtype=object)"
      ]
     },
     "execution_count": 34,
     "metadata": {},
     "output_type": "execute_result"
    }
   ],
   "source": [
    "# Print the reduced feature set.\n",
    "reduced_features\n"
   ]
  },
  {
   "cell_type": "markdown",
   "metadata": {},
   "source": [
    "Finally, we can test the accuracy of the model using the reduced feature set."
   ]
  },
  {
   "cell_type": "code",
   "execution_count": 35,
   "metadata": {},
   "outputs": [
    {
     "name": "stdout",
     "output_type": "stream",
     "text": [
      "The accuracy of the model after feature selection is: 0.7863752047771495\n"
     ]
    }
   ],
   "source": [
    "# Test the accuracy of the model with reduced features.\n",
    "accuracy_CFE = test_average_accuracy(\n",
    "    X_train_reduced, X_test_reduced, y_train, y_test)\n",
    "print(\"The accuracy of the model after feature selection is: {}\".format(accuracy_CFE))\n"
   ]
  },
  {
   "cell_type": "markdown",
   "metadata": {},
   "source": [
    "### Write Reduced Summary to File.\n",
    "With the features reduced, we will create a new summary dataset and save it to file for later use."
   ]
  },
  {
   "cell_type": "code",
   "execution_count": 38,
   "metadata": {},
   "outputs": [],
   "source": [
    "# Load batter summary data.\n",
    "summary = pd.read_csv(DATA_PATH + \"/Batter_Summary.txt\", delimiter=\"\\t\")\n",
    "\n",
    "#  Create a new dataframe of the reduced dataset.\n",
    "fields = reduced_features.tolist(\n",
    ") + [\"Batter_ID\", \"Name\", \"International_One_Day_Batting_Average\"]\n",
    "summary_reduced = summary[fields]\n",
    "\n",
    "# Write the reduced dataset to file.\n",
    "summary_reduced.to_csv(\n",
    "    DATA_PATH + \"/Batter_Summary_Reduced.txt\", sep=\"\\t\", index=False)\n"
   ]
  }
 ],
 "metadata": {
  "interpreter": {
   "hash": "d5f05966c834b7114444b779d720abe0e299bd07f35b3e38633408fa0bc32ead"
  },
  "kernelspec": {
   "display_name": "Python 3.9.9 64-bit",
   "language": "python",
   "name": "python3"
  },
  "language_info": {
   "codemirror_mode": {
    "name": "ipython",
    "version": 3
   },
   "file_extension": ".py",
   "mimetype": "text/x-python",
   "name": "python",
   "nbconvert_exporter": "python",
   "pygments_lexer": "ipython3",
   "version": "3.9.9"
  },
  "orig_nbformat": 4
 },
 "nbformat": 4,
 "nbformat_minor": 2
}
