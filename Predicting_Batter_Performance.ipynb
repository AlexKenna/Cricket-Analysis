{
 "cells": [
  {
   "cell_type": "markdown",
   "metadata": {},
   "source": [
    "# Predicting Batter Performance\n",
    "This document implements all notebook findings in a single location. Please see the notebooks directory for an in-depth exploration of each step."
   ]
  },
  {
   "cell_type": "code",
   "execution_count": 1,
   "metadata": {},
   "outputs": [],
   "source": [
    "# Import necessary function.\n",
    "from lib.clean_raw_data import clean_raw_data\n",
    "from lib.summarise_data import summarise_data\n",
    "from lib.reduce_summary import reduce_summary\n",
    "from lib.create_model import create_model\n",
    "from lib.train_model import train_model\n",
    "from lib.test_model import test_model\n"
   ]
  },
  {
   "cell_type": "markdown",
   "metadata": {},
   "source": [
    "## 1. Cleaning the Data."
   ]
  },
  {
   "cell_type": "code",
   "execution_count": 2,
   "metadata": {},
   "outputs": [],
   "source": [
    "# Clean the raw data.\n",
    "clean_raw_data()\n"
   ]
  },
  {
   "cell_type": "markdown",
   "metadata": {},
   "source": [
    "## 2. Summarising the Cleaned Data."
   ]
  },
  {
   "cell_type": "code",
   "execution_count": 3,
   "metadata": {},
   "outputs": [],
   "source": [
    "# Summarise the cleaned data.\n",
    "summarise_data()\n"
   ]
  },
  {
   "cell_type": "markdown",
   "metadata": {},
   "source": [
    "## 3. Reduce Summary Features."
   ]
  },
  {
   "cell_type": "code",
   "execution_count": 4,
   "metadata": {},
   "outputs": [],
   "source": [
    "# Reduce the number of features in the data summary.\n",
    "reduce_summary()\n"
   ]
  },
  {
   "cell_type": "markdown",
   "metadata": {},
   "source": [
    "## 4. Create the Model."
   ]
  },
  {
   "cell_type": "code",
   "execution_count": 5,
   "metadata": {},
   "outputs": [],
   "source": [
    "# Create the Random Forest model with hyperparameters predefined.\n",
    "model = create_model()\n"
   ]
  },
  {
   "cell_type": "markdown",
   "metadata": {},
   "source": [
    "## 5. Train the Model."
   ]
  },
  {
   "cell_type": "code",
   "execution_count": 66,
   "metadata": {},
   "outputs": [],
   "source": [
    "# Train the Random Forest model.\n",
    "model = train_model(model)\n"
   ]
  },
  {
   "cell_type": "markdown",
   "metadata": {},
   "source": [
    "## 6. Test the Model."
   ]
  },
  {
   "cell_type": "code",
   "execution_count": 67,
   "metadata": {},
   "outputs": [
    {
     "data": {
      "text/html": [
       "<div>\n",
       "<style scoped>\n",
       "    .dataframe tbody tr th:only-of-type {\n",
       "        vertical-align: middle;\n",
       "    }\n",
       "\n",
       "    .dataframe tbody tr th {\n",
       "        vertical-align: top;\n",
       "    }\n",
       "\n",
       "    .dataframe thead th {\n",
       "        text-align: right;\n",
       "    }\n",
       "</style>\n",
       "<table border=\"1\" class=\"dataframe\">\n",
       "  <thead>\n",
       "    <tr style=\"text-align: right;\">\n",
       "      <th></th>\n",
       "      <th>Gini-importance</th>\n",
       "    </tr>\n",
       "  </thead>\n",
       "  <tbody>\n",
       "    <tr>\n",
       "      <th>Domestic_One_Day_Runs_Per_Out_Average</th>\n",
       "      <td>0.096400</td>\n",
       "    </tr>\n",
       "    <tr>\n",
       "      <th>Domestic_One_Day_Average_Ball_Count</th>\n",
       "      <td>0.080616</td>\n",
       "    </tr>\n",
       "    <tr>\n",
       "      <th>Domestic_One_Day_Team_Run_Contribution_Percent</th>\n",
       "      <td>0.074138</td>\n",
       "    </tr>\n",
       "    <tr>\n",
       "      <th>Domestic_T20_Average_Ball_Count</th>\n",
       "      <td>0.072006</td>\n",
       "    </tr>\n",
       "    <tr>\n",
       "      <th>Domestic_Test_Average_Entering_Wicket</th>\n",
       "      <td>0.066643</td>\n",
       "    </tr>\n",
       "    <tr>\n",
       "      <th>Domestic_One_Day_Team_High_Score_Percent</th>\n",
       "      <td>0.065379</td>\n",
       "    </tr>\n",
       "    <tr>\n",
       "      <th>Domestic_One_Day_50_Rate</th>\n",
       "      <td>0.060658</td>\n",
       "    </tr>\n",
       "    <tr>\n",
       "      <th>Domestic_Test_Team_Run_Contribution_Percent</th>\n",
       "      <td>0.054637</td>\n",
       "    </tr>\n",
       "    <tr>\n",
       "      <th>Domestic_One_Day_High_Score</th>\n",
       "      <td>0.049489</td>\n",
       "    </tr>\n",
       "    <tr>\n",
       "      <th>Domestic_T20_Team_Run_Contribution_Percent</th>\n",
       "      <td>0.046928</td>\n",
       "    </tr>\n",
       "    <tr>\n",
       "      <th>Domestic_Test_50_Rate</th>\n",
       "      <td>0.045946</td>\n",
       "    </tr>\n",
       "    <tr>\n",
       "      <th>Domestic_Test_Runs_Per_Out_Average</th>\n",
       "      <td>0.045901</td>\n",
       "    </tr>\n",
       "    <tr>\n",
       "      <th>Domestic_One_Day_Start_Rate</th>\n",
       "      <td>0.045513</td>\n",
       "    </tr>\n",
       "    <tr>\n",
       "      <th>Domestic_One_Day_Average_Entering_Wicket</th>\n",
       "      <td>0.038351</td>\n",
       "    </tr>\n",
       "    <tr>\n",
       "      <th>Domestic_Test_High_Score</th>\n",
       "      <td>0.037941</td>\n",
       "    </tr>\n",
       "    <tr>\n",
       "      <th>Domestic_Test_Team_High_Score_Percent</th>\n",
       "      <td>0.032337</td>\n",
       "    </tr>\n",
       "    <tr>\n",
       "      <th>Domestic_Test_Average_Ball_Count</th>\n",
       "      <td>0.028398</td>\n",
       "    </tr>\n",
       "    <tr>\n",
       "      <th>Domestic_T20_Not_Out_Percent</th>\n",
       "      <td>0.026716</td>\n",
       "    </tr>\n",
       "    <tr>\n",
       "      <th>Domestic_Test_Start_Rate</th>\n",
       "      <td>0.016151</td>\n",
       "    </tr>\n",
       "    <tr>\n",
       "      <th>Domestic_T20_High_Score</th>\n",
       "      <td>0.015854</td>\n",
       "    </tr>\n",
       "  </tbody>\n",
       "</table>\n",
       "</div>"
      ],
      "text/plain": [
       "                                                Gini-importance\n",
       "Domestic_One_Day_Runs_Per_Out_Average                  0.096400\n",
       "Domestic_One_Day_Average_Ball_Count                    0.080616\n",
       "Domestic_One_Day_Team_Run_Contribution_Percent         0.074138\n",
       "Domestic_T20_Average_Ball_Count                        0.072006\n",
       "Domestic_Test_Average_Entering_Wicket                  0.066643\n",
       "Domestic_One_Day_Team_High_Score_Percent               0.065379\n",
       "Domestic_One_Day_50_Rate                               0.060658\n",
       "Domestic_Test_Team_Run_Contribution_Percent            0.054637\n",
       "Domestic_One_Day_High_Score                            0.049489\n",
       "Domestic_T20_Team_Run_Contribution_Percent             0.046928\n",
       "Domestic_Test_50_Rate                                  0.045946\n",
       "Domestic_Test_Runs_Per_Out_Average                     0.045901\n",
       "Domestic_One_Day_Start_Rate                            0.045513\n",
       "Domestic_One_Day_Average_Entering_Wicket               0.038351\n",
       "Domestic_Test_High_Score                               0.037941\n",
       "Domestic_Test_Team_High_Score_Percent                  0.032337\n",
       "Domestic_Test_Average_Ball_Count                       0.028398\n",
       "Domestic_T20_Not_Out_Percent                           0.026716\n",
       "Domestic_Test_Start_Rate                               0.016151\n",
       "Domestic_T20_High_Score                                0.015854"
      ]
     },
     "metadata": {},
     "output_type": "display_data"
    },
    {
     "data": {
      "text/html": [
       "<div>\n",
       "<style scoped>\n",
       "    .dataframe tbody tr th:only-of-type {\n",
       "        vertical-align: middle;\n",
       "    }\n",
       "\n",
       "    .dataframe tbody tr th {\n",
       "        vertical-align: top;\n",
       "    }\n",
       "\n",
       "    .dataframe thead th {\n",
       "        text-align: right;\n",
       "    }\n",
       "</style>\n",
       "<table border=\"1\" class=\"dataframe\">\n",
       "  <thead>\n",
       "    <tr style=\"text-align: right;\">\n",
       "      <th></th>\n",
       "      <th>Score</th>\n",
       "    </tr>\n",
       "    <tr>\n",
       "      <th>Metric</th>\n",
       "      <th></th>\n",
       "    </tr>\n",
       "  </thead>\n",
       "  <tbody>\n",
       "    <tr>\n",
       "      <th>Coefficient of Determination</th>\n",
       "      <td>0.788209</td>\n",
       "    </tr>\n",
       "    <tr>\n",
       "      <th>Mean Average Error</th>\n",
       "      <td>3.684309</td>\n",
       "    </tr>\n",
       "    <tr>\n",
       "      <th>Root Mean Squared Error</th>\n",
       "      <td>4.721879</td>\n",
       "    </tr>\n",
       "  </tbody>\n",
       "</table>\n",
       "</div>"
      ],
      "text/plain": [
       "                                 Score\n",
       "Metric                                \n",
       "Coefficient of Determination  0.788209\n",
       "Mean Average Error            3.684309\n",
       "Root Mean Squared Error       4.721879"
      ]
     },
     "metadata": {},
     "output_type": "display_data"
    },
    {
     "data": {
      "text/html": [
       "<div>\n",
       "<style scoped>\n",
       "    .dataframe tbody tr th:only-of-type {\n",
       "        vertical-align: middle;\n",
       "    }\n",
       "\n",
       "    .dataframe tbody tr th {\n",
       "        vertical-align: top;\n",
       "    }\n",
       "\n",
       "    .dataframe thead th {\n",
       "        text-align: right;\n",
       "    }\n",
       "</style>\n",
       "<table border=\"1\" class=\"dataframe\">\n",
       "  <thead>\n",
       "    <tr style=\"text-align: right;\">\n",
       "      <th></th>\n",
       "      <th>Warner, David</th>\n",
       "      <th>Bailey, George</th>\n",
       "      <th>Faulkner, James</th>\n",
       "      <th>Maxwell, Glenn</th>\n",
       "      <th>Coulter-Nile, Nathan</th>\n",
       "      <th>Agar, Ashton</th>\n",
       "      <th>Richardson, Kane</th>\n",
       "      <th>Labuschagne, Marnus</th>\n",
       "      <th>Stoinis, Marcus</th>\n",
       "      <th>Handscomb, Peter</th>\n",
       "      <th>Head, Travis</th>\n",
       "      <th>Zampa, Adam</th>\n",
       "    </tr>\n",
       "    <tr>\n",
       "      <th>Averages</th>\n",
       "      <th></th>\n",
       "      <th></th>\n",
       "      <th></th>\n",
       "      <th></th>\n",
       "      <th></th>\n",
       "      <th></th>\n",
       "      <th></th>\n",
       "      <th></th>\n",
       "      <th></th>\n",
       "      <th></th>\n",
       "      <th></th>\n",
       "      <th></th>\n",
       "    </tr>\n",
       "  </thead>\n",
       "  <tbody>\n",
       "    <tr>\n",
       "      <th>True Average</th>\n",
       "      <td>44.869919</td>\n",
       "      <td>39.934211</td>\n",
       "      <td>33.774194</td>\n",
       "      <td>35.383838</td>\n",
       "      <td>18.150000</td>\n",
       "      <td>20.750000</td>\n",
       "      <td>17.400000</td>\n",
       "      <td>37.866667</td>\n",
       "      <td>33.540541</td>\n",
       "      <td>30.375000</td>\n",
       "      <td>34.173913</td>\n",
       "      <td>9.380952</td>\n",
       "    </tr>\n",
       "    <tr>\n",
       "      <th>Predicted Average</th>\n",
       "      <td>37.868259</td>\n",
       "      <td>36.807552</td>\n",
       "      <td>24.099830</td>\n",
       "      <td>31.463239</td>\n",
       "      <td>16.705991</td>\n",
       "      <td>18.591346</td>\n",
       "      <td>15.187152</td>\n",
       "      <td>40.112641</td>\n",
       "      <td>33.957911</td>\n",
       "      <td>33.974474</td>\n",
       "      <td>34.128713</td>\n",
       "      <td>17.745854</td>\n",
       "    </tr>\n",
       "  </tbody>\n",
       "</table>\n",
       "</div>"
      ],
      "text/plain": [
       "                   Warner, David  Bailey, George  Faulkner, James  \\\n",
       "Averages                                                            \n",
       "True Average           44.869919       39.934211        33.774194   \n",
       "Predicted Average      37.868259       36.807552        24.099830   \n",
       "\n",
       "                   Maxwell, Glenn  Coulter-Nile, Nathan  Agar, Ashton  \\\n",
       "Averages                                                                \n",
       "True Average            35.383838             18.150000     20.750000   \n",
       "Predicted Average       31.463239             16.705991     18.591346   \n",
       "\n",
       "                   Richardson, Kane  Labuschagne, Marnus  Stoinis, Marcus  \\\n",
       "Averages                                                                    \n",
       "True Average              17.400000            37.866667        33.540541   \n",
       "Predicted Average         15.187152            40.112641        33.957911   \n",
       "\n",
       "                   Handscomb, Peter  Head, Travis  Zampa, Adam  \n",
       "Averages                                                        \n",
       "True Average              30.375000     34.173913     9.380952  \n",
       "Predicted Average         33.974474     34.128713    17.745854  "
      ]
     },
     "metadata": {},
     "output_type": "display_data"
    },
    {
     "data": {
      "image/png": "[encoded data removed]",
      "text/plain": [
       "<Figure size 432x288 with 1 Axes>"
      ]
     },
     "metadata": {
      "needs_background": "light"
     },
     "output_type": "display_data"
    }
   ],
   "source": [
    "# Test the Random Forest models accuracy.\n",
    "test_model(model)\n"
   ]
  }
 ],
 "metadata": {
  "interpreter": {
   "hash": "d5f05966c834b7114444b779d720abe0e299bd07f35b3e38633408fa0bc32ead"
  },
  "kernelspec": {
   "display_name": "Python 3.9.9 64-bit",
   "language": "python",
   "name": "python3"
  },
  "language_info": {
   "codemirror_mode": {
    "name": "ipython",
    "version": 3
   },
   "file_extension": ".py",
   "mimetype": "text/x-python",
   "name": "python",
   "nbconvert_exporter": "python",
   "pygments_lexer": "ipython3",
   "version": "3.9.9"
  },
  "orig_nbformat": 4
 },
 "nbformat": 4,
 "nbformat_minor": 2
}
